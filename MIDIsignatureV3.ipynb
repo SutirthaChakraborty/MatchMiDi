{
  "nbformat": 4,
  "nbformat_minor": 0,
  "metadata": {
    "colab": {
      "name": "MIDIsignatureV3.ipynb",
      "provenance": [],
      "collapsed_sections": [],
      "authorship_tag": "ABX9TyP65AD3l9ngi9dJ5niVMz64",
      "include_colab_link": true
    },
    "kernelspec": {
      "name": "python3",
      "display_name": "Python 3"
    },
    "widgets": {
      "application/vnd.jupyter.widget-state+json": {
        "d6edb8e69151414e986e23169c4e3ece": {
          "model_module": "@jupyter-widgets/controls",
          "model_name": "HBoxModel",
          "state": {
            "_view_name": "HBoxView",
            "_dom_classes": [],
            "_model_name": "HBoxModel",
            "_view_module": "@jupyter-widgets/controls",
            "_model_module_version": "1.5.0",
            "_view_count": null,
            "_view_module_version": "1.5.0",
            "box_style": "",
            "layout": "IPY_MODEL_64247b66d08348b7a000db99fbac64a7",
            "_model_module": "@jupyter-widgets/controls",
            "children": [
              "IPY_MODEL_7524c043cc684d5395d150d207a6e6f2",
              "IPY_MODEL_cbab3d3b53634aec83ab4d26d2004235"
            ]
          }
        },
        "64247b66d08348b7a000db99fbac64a7": {
          "model_module": "@jupyter-widgets/base",
          "model_name": "LayoutModel",
          "state": {
            "_view_name": "LayoutView",
            "grid_template_rows": null,
            "right": null,
            "justify_content": null,
            "_view_module": "@jupyter-widgets/base",
            "overflow": null,
            "_model_module_version": "1.2.0",
            "_view_count": null,
            "flex_flow": null,
            "width": null,
            "min_width": null,
            "border": null,
            "align_items": null,
            "bottom": null,
            "_model_module": "@jupyter-widgets/base",
            "top": null,
            "grid_column": null,
            "overflow_y": null,
            "overflow_x": null,
            "grid_auto_flow": null,
            "grid_area": null,
            "grid_template_columns": null,
            "flex": null,
            "_model_name": "LayoutModel",
            "justify_items": null,
            "grid_row": null,
            "max_height": null,
            "align_content": null,
            "visibility": null,
            "align_self": null,
            "height": null,
            "min_height": null,
            "padding": null,
            "grid_auto_rows": null,
            "grid_gap": null,
            "max_width": null,
            "order": null,
            "_view_module_version": "1.2.0",
            "grid_template_areas": null,
            "object_position": null,
            "object_fit": null,
            "grid_auto_columns": null,
            "margin": null,
            "display": null,
            "left": null
          }
        },
        "7524c043cc684d5395d150d207a6e6f2": {
          "model_module": "@jupyter-widgets/controls",
          "model_name": "FloatProgressModel",
          "state": {
            "_view_name": "ProgressView",
            "style": "IPY_MODEL_d937b3644a5b4e7a919b8cefd74b93dd",
            "_dom_classes": [],
            "description": "100%",
            "_model_name": "FloatProgressModel",
            "bar_style": "success",
            "max": 44,
            "_view_module": "@jupyter-widgets/controls",
            "_model_module_version": "1.5.0",
            "value": 44,
            "_view_count": null,
            "_view_module_version": "1.5.0",
            "orientation": "horizontal",
            "min": 0,
            "description_tooltip": null,
            "_model_module": "@jupyter-widgets/controls",
            "layout": "IPY_MODEL_df2b972cd263480195dbc9504f4389a3"
          }
        },
        "cbab3d3b53634aec83ab4d26d2004235": {
          "model_module": "@jupyter-widgets/controls",
          "model_name": "HTMLModel",
          "state": {
            "_view_name": "HTMLView",
            "style": "IPY_MODEL_475af29664da4dee997612d0e14b73d2",
            "_dom_classes": [],
            "description": "",
            "_model_name": "HTMLModel",
            "placeholder": "​",
            "_view_module": "@jupyter-widgets/controls",
            "_model_module_version": "1.5.0",
            "value": " 44/44 [09:22&lt;00:00, 12.79s/it]",
            "_view_count": null,
            "_view_module_version": "1.5.0",
            "description_tooltip": null,
            "_model_module": "@jupyter-widgets/controls",
            "layout": "IPY_MODEL_35e7e35839e8475483b83da7d78797b4"
          }
        },
        "d937b3644a5b4e7a919b8cefd74b93dd": {
          "model_module": "@jupyter-widgets/controls",
          "model_name": "ProgressStyleModel",
          "state": {
            "_view_name": "StyleView",
            "_model_name": "ProgressStyleModel",
            "description_width": "initial",
            "_view_module": "@jupyter-widgets/base",
            "_model_module_version": "1.5.0",
            "_view_count": null,
            "_view_module_version": "1.2.0",
            "bar_color": null,
            "_model_module": "@jupyter-widgets/controls"
          }
        },
        "df2b972cd263480195dbc9504f4389a3": {
          "model_module": "@jupyter-widgets/base",
          "model_name": "LayoutModel",
          "state": {
            "_view_name": "LayoutView",
            "grid_template_rows": null,
            "right": null,
            "justify_content": null,
            "_view_module": "@jupyter-widgets/base",
            "overflow": null,
            "_model_module_version": "1.2.0",
            "_view_count": null,
            "flex_flow": null,
            "width": null,
            "min_width": null,
            "border": null,
            "align_items": null,
            "bottom": null,
            "_model_module": "@jupyter-widgets/base",
            "top": null,
            "grid_column": null,
            "overflow_y": null,
            "overflow_x": null,
            "grid_auto_flow": null,
            "grid_area": null,
            "grid_template_columns": null,
            "flex": null,
            "_model_name": "LayoutModel",
            "justify_items": null,
            "grid_row": null,
            "max_height": null,
            "align_content": null,
            "visibility": null,
            "align_self": null,
            "height": null,
            "min_height": null,
            "padding": null,
            "grid_auto_rows": null,
            "grid_gap": null,
            "max_width": null,
            "order": null,
            "_view_module_version": "1.2.0",
            "grid_template_areas": null,
            "object_position": null,
            "object_fit": null,
            "grid_auto_columns": null,
            "margin": null,
            "display": null,
            "left": null
          }
        },
        "475af29664da4dee997612d0e14b73d2": {
          "model_module": "@jupyter-widgets/controls",
          "model_name": "DescriptionStyleModel",
          "state": {
            "_view_name": "StyleView",
            "_model_name": "DescriptionStyleModel",
            "description_width": "",
            "_view_module": "@jupyter-widgets/base",
            "_model_module_version": "1.5.0",
            "_view_count": null,
            "_view_module_version": "1.2.0",
            "_model_module": "@jupyter-widgets/controls"
          }
        },
        "35e7e35839e8475483b83da7d78797b4": {
          "model_module": "@jupyter-widgets/base",
          "model_name": "LayoutModel",
          "state": {
            "_view_name": "LayoutView",
            "grid_template_rows": null,
            "right": null,
            "justify_content": null,
            "_view_module": "@jupyter-widgets/base",
            "overflow": null,
            "_model_module_version": "1.2.0",
            "_view_count": null,
            "flex_flow": null,
            "width": null,
            "min_width": null,
            "border": null,
            "align_items": null,
            "bottom": null,
            "_model_module": "@jupyter-widgets/base",
            "top": null,
            "grid_column": null,
            "overflow_y": null,
            "overflow_x": null,
            "grid_auto_flow": null,
            "grid_area": null,
            "grid_template_columns": null,
            "flex": null,
            "_model_name": "LayoutModel",
            "justify_items": null,
            "grid_row": null,
            "max_height": null,
            "align_content": null,
            "visibility": null,
            "align_self": null,
            "height": null,
            "min_height": null,
            "padding": null,
            "grid_auto_rows": null,
            "grid_gap": null,
            "max_width": null,
            "order": null,
            "_view_module_version": "1.2.0",
            "grid_template_areas": null,
            "object_position": null,
            "object_fit": null,
            "grid_auto_columns": null,
            "margin": null,
            "display": null,
            "left": null
          }
        },
        "b417bdef0cc64947984c5c2cae7b22c4": {
          "model_module": "@jupyter-widgets/controls",
          "model_name": "HBoxModel",
          "state": {
            "_view_name": "HBoxView",
            "_dom_classes": [],
            "_model_name": "HBoxModel",
            "_view_module": "@jupyter-widgets/controls",
            "_model_module_version": "1.5.0",
            "_view_count": null,
            "_view_module_version": "1.5.0",
            "box_style": "",
            "layout": "IPY_MODEL_406b43c5281f436e908b4473baf738b9",
            "_model_module": "@jupyter-widgets/controls",
            "children": [
              "IPY_MODEL_d4c0a22ccadf4596810ba9eb42b1dd6b",
              "IPY_MODEL_eb6833de14a4449f9ad52f2a9642ef41"
            ]
          }
        },
        "406b43c5281f436e908b4473baf738b9": {
          "model_module": "@jupyter-widgets/base",
          "model_name": "LayoutModel",
          "state": {
            "_view_name": "LayoutView",
            "grid_template_rows": null,
            "right": null,
            "justify_content": null,
            "_view_module": "@jupyter-widgets/base",
            "overflow": null,
            "_model_module_version": "1.2.0",
            "_view_count": null,
            "flex_flow": null,
            "width": null,
            "min_width": null,
            "border": null,
            "align_items": null,
            "bottom": null,
            "_model_module": "@jupyter-widgets/base",
            "top": null,
            "grid_column": null,
            "overflow_y": null,
            "overflow_x": null,
            "grid_auto_flow": null,
            "grid_area": null,
            "grid_template_columns": null,
            "flex": null,
            "_model_name": "LayoutModel",
            "justify_items": null,
            "grid_row": null,
            "max_height": null,
            "align_content": null,
            "visibility": null,
            "align_self": null,
            "height": null,
            "min_height": null,
            "padding": null,
            "grid_auto_rows": null,
            "grid_gap": null,
            "max_width": null,
            "order": null,
            "_view_module_version": "1.2.0",
            "grid_template_areas": null,
            "object_position": null,
            "object_fit": null,
            "grid_auto_columns": null,
            "margin": null,
            "display": null,
            "left": null
          }
        },
        "d4c0a22ccadf4596810ba9eb42b1dd6b": {
          "model_module": "@jupyter-widgets/controls",
          "model_name": "FloatProgressModel",
          "state": {
            "_view_name": "ProgressView",
            "style": "IPY_MODEL_31a9350bc8e94c20a6f8890cc7195b77",
            "_dom_classes": [],
            "description": "100%",
            "_model_name": "FloatProgressModel",
            "bar_style": "success",
            "max": 20446,
            "_view_module": "@jupyter-widgets/controls",
            "_model_module_version": "1.5.0",
            "value": 20446,
            "_view_count": null,
            "_view_module_version": "1.5.0",
            "orientation": "horizontal",
            "min": 0,
            "description_tooltip": null,
            "_model_module": "@jupyter-widgets/controls",
            "layout": "IPY_MODEL_960f17b7beae4d27903082e6bc143a98"
          }
        },
        "eb6833de14a4449f9ad52f2a9642ef41": {
          "model_module": "@jupyter-widgets/controls",
          "model_name": "HTMLModel",
          "state": {
            "_view_name": "HTMLView",
            "style": "IPY_MODEL_6afd2fbbd8204ec4a5570208b971e27e",
            "_dom_classes": [],
            "description": "",
            "_model_name": "HTMLModel",
            "placeholder": "​",
            "_view_module": "@jupyter-widgets/controls",
            "_model_module_version": "1.5.0",
            "value": " 20446/20446 [00:02&lt;00:00, 9281.72it/s]",
            "_view_count": null,
            "_view_module_version": "1.5.0",
            "description_tooltip": null,
            "_model_module": "@jupyter-widgets/controls",
            "layout": "IPY_MODEL_a3fe5893800d4dbab642fe50ab90146d"
          }
        },
        "31a9350bc8e94c20a6f8890cc7195b77": {
          "model_module": "@jupyter-widgets/controls",
          "model_name": "ProgressStyleModel",
          "state": {
            "_view_name": "StyleView",
            "_model_name": "ProgressStyleModel",
            "description_width": "initial",
            "_view_module": "@jupyter-widgets/base",
            "_model_module_version": "1.5.0",
            "_view_count": null,
            "_view_module_version": "1.2.0",
            "bar_color": null,
            "_model_module": "@jupyter-widgets/controls"
          }
        },
        "960f17b7beae4d27903082e6bc143a98": {
          "model_module": "@jupyter-widgets/base",
          "model_name": "LayoutModel",
          "state": {
            "_view_name": "LayoutView",
            "grid_template_rows": null,
            "right": null,
            "justify_content": null,
            "_view_module": "@jupyter-widgets/base",
            "overflow": null,
            "_model_module_version": "1.2.0",
            "_view_count": null,
            "flex_flow": null,
            "width": null,
            "min_width": null,
            "border": null,
            "align_items": null,
            "bottom": null,
            "_model_module": "@jupyter-widgets/base",
            "top": null,
            "grid_column": null,
            "overflow_y": null,
            "overflow_x": null,
            "grid_auto_flow": null,
            "grid_area": null,
            "grid_template_columns": null,
            "flex": null,
            "_model_name": "LayoutModel",
            "justify_items": null,
            "grid_row": null,
            "max_height": null,
            "align_content": null,
            "visibility": null,
            "align_self": null,
            "height": null,
            "min_height": null,
            "padding": null,
            "grid_auto_rows": null,
            "grid_gap": null,
            "max_width": null,
            "order": null,
            "_view_module_version": "1.2.0",
            "grid_template_areas": null,
            "object_position": null,
            "object_fit": null,
            "grid_auto_columns": null,
            "margin": null,
            "display": null,
            "left": null
          }
        },
        "6afd2fbbd8204ec4a5570208b971e27e": {
          "model_module": "@jupyter-widgets/controls",
          "model_name": "DescriptionStyleModel",
          "state": {
            "_view_name": "StyleView",
            "_model_name": "DescriptionStyleModel",
            "description_width": "",
            "_view_module": "@jupyter-widgets/base",
            "_model_module_version": "1.5.0",
            "_view_count": null,
            "_view_module_version": "1.2.0",
            "_model_module": "@jupyter-widgets/controls"
          }
        },
        "a3fe5893800d4dbab642fe50ab90146d": {
          "model_module": "@jupyter-widgets/base",
          "model_name": "LayoutModel",
          "state": {
            "_view_name": "LayoutView",
            "grid_template_rows": null,
            "right": null,
            "justify_content": null,
            "_view_module": "@jupyter-widgets/base",
            "overflow": null,
            "_model_module_version": "1.2.0",
            "_view_count": null,
            "flex_flow": null,
            "width": null,
            "min_width": null,
            "border": null,
            "align_items": null,
            "bottom": null,
            "_model_module": "@jupyter-widgets/base",
            "top": null,
            "grid_column": null,
            "overflow_y": null,
            "overflow_x": null,
            "grid_auto_flow": null,
            "grid_area": null,
            "grid_template_columns": null,
            "flex": null,
            "_model_name": "LayoutModel",
            "justify_items": null,
            "grid_row": null,
            "max_height": null,
            "align_content": null,
            "visibility": null,
            "align_self": null,
            "height": null,
            "min_height": null,
            "padding": null,
            "grid_auto_rows": null,
            "grid_gap": null,
            "max_width": null,
            "order": null,
            "_view_module_version": "1.2.0",
            "grid_template_areas": null,
            "object_position": null,
            "object_fit": null,
            "grid_auto_columns": null,
            "margin": null,
            "display": null,
            "left": null
          }
        },
        "be82ebe982c44bce9cfbe781d33f09ab": {
          "model_module": "@jupyter-widgets/controls",
          "model_name": "HBoxModel",
          "state": {
            "_view_name": "HBoxView",
            "_dom_classes": [],
            "_model_name": "HBoxModel",
            "_view_module": "@jupyter-widgets/controls",
            "_model_module_version": "1.5.0",
            "_view_count": null,
            "_view_module_version": "1.5.0",
            "box_style": "",
            "layout": "IPY_MODEL_a9a52befe6804b14a0a94cc3b4e468c4",
            "_model_module": "@jupyter-widgets/controls",
            "children": [
              "IPY_MODEL_f15f2e751dad466b93e89b29cd1ea0d1",
              "IPY_MODEL_119a2d620afb46f3aa4db912779b1d3e"
            ]
          }
        },
        "a9a52befe6804b14a0a94cc3b4e468c4": {
          "model_module": "@jupyter-widgets/base",
          "model_name": "LayoutModel",
          "state": {
            "_view_name": "LayoutView",
            "grid_template_rows": null,
            "right": null,
            "justify_content": null,
            "_view_module": "@jupyter-widgets/base",
            "overflow": null,
            "_model_module_version": "1.2.0",
            "_view_count": null,
            "flex_flow": null,
            "width": null,
            "min_width": null,
            "border": null,
            "align_items": null,
            "bottom": null,
            "_model_module": "@jupyter-widgets/base",
            "top": null,
            "grid_column": null,
            "overflow_y": null,
            "overflow_x": null,
            "grid_auto_flow": null,
            "grid_area": null,
            "grid_template_columns": null,
            "flex": null,
            "_model_name": "LayoutModel",
            "justify_items": null,
            "grid_row": null,
            "max_height": null,
            "align_content": null,
            "visibility": null,
            "align_self": null,
            "height": null,
            "min_height": null,
            "padding": null,
            "grid_auto_rows": null,
            "grid_gap": null,
            "max_width": null,
            "order": null,
            "_view_module_version": "1.2.0",
            "grid_template_areas": null,
            "object_position": null,
            "object_fit": null,
            "grid_auto_columns": null,
            "margin": null,
            "display": null,
            "left": null
          }
        },
        "f15f2e751dad466b93e89b29cd1ea0d1": {
          "model_module": "@jupyter-widgets/controls",
          "model_name": "FloatProgressModel",
          "state": {
            "_view_name": "ProgressView",
            "style": "IPY_MODEL_93a6bbfdf8ec42a6bda84595592d3a07",
            "_dom_classes": [],
            "description": "100%",
            "_model_name": "FloatProgressModel",
            "bar_style": "success",
            "max": 17374,
            "_view_module": "@jupyter-widgets/controls",
            "_model_module_version": "1.5.0",
            "value": 17374,
            "_view_count": null,
            "_view_module_version": "1.5.0",
            "orientation": "horizontal",
            "min": 0,
            "description_tooltip": null,
            "_model_module": "@jupyter-widgets/controls",
            "layout": "IPY_MODEL_bf60dcd1f7da46949ee8be37469fde6b"
          }
        },
        "119a2d620afb46f3aa4db912779b1d3e": {
          "model_module": "@jupyter-widgets/controls",
          "model_name": "HTMLModel",
          "state": {
            "_view_name": "HTMLView",
            "style": "IPY_MODEL_b886f48a52f544508593e64b7d1776ab",
            "_dom_classes": [],
            "description": "",
            "_model_name": "HTMLModel",
            "placeholder": "​",
            "_view_module": "@jupyter-widgets/controls",
            "_model_module_version": "1.5.0",
            "value": " 17374/17374 [00:01&lt;00:00, 14871.91it/s]",
            "_view_count": null,
            "_view_module_version": "1.5.0",
            "description_tooltip": null,
            "_model_module": "@jupyter-widgets/controls",
            "layout": "IPY_MODEL_ee606be9d72e42e4a44c47b9d0053324"
          }
        },
        "93a6bbfdf8ec42a6bda84595592d3a07": {
          "model_module": "@jupyter-widgets/controls",
          "model_name": "ProgressStyleModel",
          "state": {
            "_view_name": "StyleView",
            "_model_name": "ProgressStyleModel",
            "description_width": "initial",
            "_view_module": "@jupyter-widgets/base",
            "_model_module_version": "1.5.0",
            "_view_count": null,
            "_view_module_version": "1.2.0",
            "bar_color": null,
            "_model_module": "@jupyter-widgets/controls"
          }
        },
        "bf60dcd1f7da46949ee8be37469fde6b": {
          "model_module": "@jupyter-widgets/base",
          "model_name": "LayoutModel",
          "state": {
            "_view_name": "LayoutView",
            "grid_template_rows": null,
            "right": null,
            "justify_content": null,
            "_view_module": "@jupyter-widgets/base",
            "overflow": null,
            "_model_module_version": "1.2.0",
            "_view_count": null,
            "flex_flow": null,
            "width": null,
            "min_width": null,
            "border": null,
            "align_items": null,
            "bottom": null,
            "_model_module": "@jupyter-widgets/base",
            "top": null,
            "grid_column": null,
            "overflow_y": null,
            "overflow_x": null,
            "grid_auto_flow": null,
            "grid_area": null,
            "grid_template_columns": null,
            "flex": null,
            "_model_name": "LayoutModel",
            "justify_items": null,
            "grid_row": null,
            "max_height": null,
            "align_content": null,
            "visibility": null,
            "align_self": null,
            "height": null,
            "min_height": null,
            "padding": null,
            "grid_auto_rows": null,
            "grid_gap": null,
            "max_width": null,
            "order": null,
            "_view_module_version": "1.2.0",
            "grid_template_areas": null,
            "object_position": null,
            "object_fit": null,
            "grid_auto_columns": null,
            "margin": null,
            "display": null,
            "left": null
          }
        },
        "b886f48a52f544508593e64b7d1776ab": {
          "model_module": "@jupyter-widgets/controls",
          "model_name": "DescriptionStyleModel",
          "state": {
            "_view_name": "StyleView",
            "_model_name": "DescriptionStyleModel",
            "description_width": "",
            "_view_module": "@jupyter-widgets/base",
            "_model_module_version": "1.5.0",
            "_view_count": null,
            "_view_module_version": "1.2.0",
            "_model_module": "@jupyter-widgets/controls"
          }
        },
        "ee606be9d72e42e4a44c47b9d0053324": {
          "model_module": "@jupyter-widgets/base",
          "model_name": "LayoutModel",
          "state": {
            "_view_name": "LayoutView",
            "grid_template_rows": null,
            "right": null,
            "justify_content": null,
            "_view_module": "@jupyter-widgets/base",
            "overflow": null,
            "_model_module_version": "1.2.0",
            "_view_count": null,
            "flex_flow": null,
            "width": null,
            "min_width": null,
            "border": null,
            "align_items": null,
            "bottom": null,
            "_model_module": "@jupyter-widgets/base",
            "top": null,
            "grid_column": null,
            "overflow_y": null,
            "overflow_x": null,
            "grid_auto_flow": null,
            "grid_area": null,
            "grid_template_columns": null,
            "flex": null,
            "_model_name": "LayoutModel",
            "justify_items": null,
            "grid_row": null,
            "max_height": null,
            "align_content": null,
            "visibility": null,
            "align_self": null,
            "height": null,
            "min_height": null,
            "padding": null,
            "grid_auto_rows": null,
            "grid_gap": null,
            "max_width": null,
            "order": null,
            "_view_module_version": "1.2.0",
            "grid_template_areas": null,
            "object_position": null,
            "object_fit": null,
            "grid_auto_columns": null,
            "margin": null,
            "display": null,
            "left": null
          }
        }
      }
    }
  },
  "cells": [
    {
      "cell_type": "markdown",
      "metadata": {
        "id": "view-in-github",
        "colab_type": "text"
      },
      "source": [
        "<a href=\"https://colab.research.google.com/github/SutirthaChakraborty/MatchMiDi/blob/main/MIDIsignatureV3.ipynb\" target=\"_parent\"><img src=\"https://colab.research.google.com/assets/colab-badge.svg\" alt=\"Open In Colab\"/></a>"
      ]
    },
    {
      "cell_type": "code",
      "metadata": {
        "id": "LGbprY6MrTfV"
      },
      "source": [
        "!rm -rf data\r\n",
        "!rm -rf MixcraftDataset\r\n",
        "!rm -rf testingdatapaper/\r\n",
        "!rm -rf testingFiles/\r\n",
        "!rm -rf dataFiles/\r\n",
        "\r\n",
        "!git clone https://github.com/SutirthaChakraborty/MatchMiDi.git\r\n",
        "\r\n",
        "\r\n",
        "\r\n",
        "!pip install py_midicsv\r\n",
        "!pip install python-Levenshtein\r\n",
        "!unzip /content/MatchMiDi/data.zip\r\n",
        "!unzip /content/MatchMiDi/MixcraftDataset.zip\r\n",
        "!pip install progressbar\r\n",
        "from tqdm import tqdm_notebook as tqdm\r\n",
        "import matplotlib.pyplot as plt\r\n",
        "import warnings\r\n",
        "warnings.filterwarnings('ignore')\r\n",
        "\r\n",
        "\r\n"
      ],
      "execution_count": null,
      "outputs": []
    },
    {
      "cell_type": "code",
      "metadata": {
        "id": "Rm4BNbxKriuC"
      },
      "source": [
        "import Levenshtein\r\n",
        "def distance(tar,total):\r\n",
        "    k=[]\r\n",
        "    for i in tqdm(range(len(total)-len(tar))):\r\n",
        "        k.append(Levenshtein.distance(str(tar),str(total[i:i+len(tar)])))\r\n",
        "    # plt.plot(k)\r\n",
        "    block=k.index(min(k))\r\n",
        "    # print(\"Minimum value= \",min(k))\r\n",
        "    # print(\"time =\", total['Timestamp'].iloc[block+1])\r\n",
        "    return k,block\r\n"
      ],
      "execution_count": 76,
      "outputs": []
    },
    {
      "cell_type": "code",
      "metadata": {
        "colab": {
          "base_uri": "https://localhost:8080/",
          "height": 66,
          "referenced_widgets": [
            "d6edb8e69151414e986e23169c4e3ece",
            "64247b66d08348b7a000db99fbac64a7",
            "7524c043cc684d5395d150d207a6e6f2",
            "cbab3d3b53634aec83ab4d26d2004235",
            "d937b3644a5b4e7a919b8cefd74b93dd",
            "df2b972cd263480195dbc9504f4389a3",
            "475af29664da4dee997612d0e14b73d2",
            "35e7e35839e8475483b83da7d78797b4"
          ]
        },
        "id": "Z2zXitprrjZW",
        "outputId": "933ed1cf-b7fc-4a50-a082-a85cde8bc0a4"
      },
      "source": [
        "import py_midicsv as pm\r\n",
        "import pandas as pd\r\n",
        "import numpy as np\r\n",
        "import glob\r\n",
        "total=pd.DataFrame()\r\n",
        "\r\n",
        "dataSet=pd.DataFrame()\r\n",
        "\r\n",
        "\r\n",
        "\r\n",
        "t=1\r\n",
        "files=[]\r\n",
        "timediff=[]\r\n",
        "pitchData=[]\r\n",
        "\r\n",
        "\r\n",
        "for file in glob.glob(\"/content/data/*.mid\"):\r\n",
        "    files.append(file)\r\n",
        "files=sorted(files)\r\n",
        "\r\n",
        "\r\n",
        "for file in tqdm(files):\r\n",
        "    csv_string1 = pm.midi_to_csv(file)\r\n",
        "    content = [x.strip().split(', ') for x in csv_string1] \r\n",
        "    data=pd.DataFrame(content)\r\n",
        "    data.columns=['A','Timestamp','NotePress','Track','Pitch','Velocity','G']\r\n",
        "    y=pd.DataFrame([t] * data.shape[0])\r\n",
        "    y.columns=['FileID']\r\n",
        "    data=pd.concat([data,y],axis=1)\r\n",
        "    total=total.append(data, ignore_index=True)\r\n",
        "    t+=1\r\n",
        "    total=total[15:-2]\r\n",
        "    a=list(total.Track.unique())\r\n",
        "    a=filter(None, a) # Remove nulls\r\n",
        "    target_Tracks = [ i for i in a if i.isnumeric() ]    # Calculates the number of tracks\r\n",
        "    for i in target_Tracks:\r\n",
        "\r\n",
        "\r\n",
        "        tar=total.loc[total['Track'] == i]\r\n",
        "        tar=tar.loc[(tar['NotePress'] == 'Note_off_c') | (tar['NotePress'] == 'Note_on_c') ]\r\n",
        "    \r\n",
        "        dataSet=dataSet.append(tar, ignore_index=True)\r\n",
        "        if(int(i)>-1 and int(i)<=5):\r\n",
        "            name= str(i)+\".csv\"\r\n",
        "            tar.to_csv(name)\r\n",
        "\r\n",
        "        if(len(list(np.diff(np.array(tar['Timestamp']).astype(float))))>0):\r\n",
        "            pidata=list(tar['Pitch'].astype(float))\r\n",
        "            pitchData=pitchData+pidata\r\n",
        "            xx=[0]+list(np.diff(np.array(tar['Timestamp']).astype(float)))\r\n",
        "            b = (xx - np.min(xx))/np.ptp(xx)\r\n",
        "            timediff=timediff+list(b)\r\n",
        "\r\n",
        "\r\n",
        "len(timediff),len(pitchData)\r\n",
        "\r\n",
        "d=pd.DataFrame(timediff)\r\n",
        "d.columns=['TimeDiff']\r\n",
        "d.to_csv('timediff.csv')\r\n",
        "\r\n",
        "d=pd.DataFrame(pitchData)\r\n",
        "d.columns=['pitchData']\r\n",
        "d.to_csv('pitchData.csv')\r\n"
      ],
      "execution_count": 3,
      "outputs": [
        {
          "output_type": "display_data",
          "data": {
            "application/vnd.jupyter.widget-view+json": {
              "model_id": "d6edb8e69151414e986e23169c4e3ece",
              "version_minor": 0,
              "version_major": 2
            },
            "text/plain": [
              "HBox(children=(FloatProgress(value=0.0, max=44.0), HTML(value='')))"
            ]
          },
          "metadata": {
            "tags": []
          }
        },
        {
          "output_type": "stream",
          "text": [
            "\n"
          ],
          "name": "stdout"
        }
      ]
    },
    {
      "cell_type": "code",
      "metadata": {
        "colab": {
          "base_uri": "https://localhost:8080/",
          "height": 132,
          "referenced_widgets": [
            "b417bdef0cc64947984c5c2cae7b22c4",
            "406b43c5281f436e908b4473baf738b9",
            "d4c0a22ccadf4596810ba9eb42b1dd6b",
            "eb6833de14a4449f9ad52f2a9642ef41",
            "31a9350bc8e94c20a6f8890cc7195b77",
            "960f17b7beae4d27903082e6bc143a98",
            "6afd2fbbd8204ec4a5570208b971e27e",
            "a3fe5893800d4dbab642fe50ab90146d",
            "be82ebe982c44bce9cfbe781d33f09ab",
            "a9a52befe6804b14a0a94cc3b4e468c4",
            "f15f2e751dad466b93e89b29cd1ea0d1",
            "119a2d620afb46f3aa4db912779b1d3e",
            "93a6bbfdf8ec42a6bda84595592d3a07",
            "bf60dcd1f7da46949ee8be37469fde6b",
            "b886f48a52f544508593e64b7d1776ab",
            "ee606be9d72e42e4a44c47b9d0053324"
          ]
        },
        "id": "jhshgIx8rlMe",
        "outputId": "5a5d3ef8-348b-425e-ab56-91b67ac2b8b9"
      },
      "source": [
        "target_path='/content/MixcraftDataset/File - 03 - 6 sec.mid'\r\n",
        "\r\n",
        "import py_midicsv as pm\r\n",
        "import pandas as pd\r\n",
        "import numpy as np\r\n",
        "import glob\r\n",
        "\r\n",
        "tar_timediff=[]\r\n",
        "tar_pitchData=[]\r\n",
        "\r\n",
        "timestamp_collector=[]\r\n",
        "file_collector=[]\r\n",
        "track_collector=[]\r\n",
        "\r\n",
        "blocks=[]\r\n",
        "\r\n",
        "\r\n",
        "csv_string1 = pm.midi_to_csv(target_path)\r\n",
        "content = [x.strip().split(', ') for x in csv_string1] \r\n",
        "data=pd.DataFrame(content)\r\n",
        "\r\n",
        "data.columns=['A','Timestamp','NotePress','Track','Pitch','Velocity','G']\r\n",
        "total=data\r\n",
        "\r\n",
        "t+=1\r\n",
        "total=total[15:-2]\r\n",
        "a=list(total.Track.unique())\r\n",
        "a=filter(None, a) # Remove nulls\r\n",
        "target_Tracks = [ i for i in a if i.isnumeric() ]    # Calculates the number of tracks\r\n",
        "for i in (target_Tracks):\r\n",
        "\r\n",
        "    tar=total.loc[total['Track'] == i]\r\n",
        "    tar=tar.loc[(tar['NotePress'] == 'Note_off_c') | (tar['NotePress'] == 'Note_on_c') ]\r\n",
        "    filename=str(i)+'find.csv'\r\n",
        "    tar.to_csv(filename)\r\n",
        "\r\n",
        "    if(len(list(np.diff(np.array(tar['Timestamp']).astype(float))))>0):\r\n",
        "        pidata=list(tar['Pitch'].astype(float))\r\n",
        "        tar_pitchData=tar_pitchData+pidata\r\n",
        "\r\n",
        "        xx=[0]+list(np.diff(np.array(tar['Timestamp']).astype(float)))\r\n",
        "        b = (xx - np.min(xx))/np.ptp(xx)\r\n",
        "        tar_timediff=tar_timediff+list(b)\r\n",
        "\r\n",
        "        filename = str(i)+\"time.csv\"\r\n",
        "        d=pd.DataFrame(tar_timediff)\r\n",
        "        d.columns=['tar_timediff']\r\n",
        "        d.to_csv(filename)\r\n",
        "\r\n",
        "        filename = str(i)+\"pitch.csv\"\r\n",
        "        d=pd.DataFrame(tar_pitchData)\r\n",
        "        d.columns=['pitchData']\r\n",
        "        d.to_csv(filename)\r\n",
        "\r\n",
        "        targetfile=str(i)+\".csv\"\r\n",
        "        datasetfile=pd.read_csv(targetfile)\r\n",
        "\r\n",
        "        k,block=distance(pidata,list(datasetfile.Pitch))\r\n",
        "        # print(block)\r\n",
        "        # b = (k - np.min(k))/np.ptp(k)\r\n",
        "        # plt.plot(b)\r\n",
        "        # plt.show()\r\n",
        "        file_collector.append(datasetfile['FileID'].iloc[block])\r\n",
        "        timestamp_collector.append(datasetfile['Timestamp'].iloc[block])\r\n",
        "        track_collector.append(datasetfile['Track'].iloc[block])\r\n",
        "        blocks.append(block)\r\n",
        "\r\n",
        "\r\n",
        "\r\n",
        "# len(tar_timediff),len(tar_pitchData)\r\n",
        "track_collector,timestamp_collector,file_collector"
      ],
      "execution_count": 130,
      "outputs": [
        {
          "output_type": "display_data",
          "data": {
            "application/vnd.jupyter.widget-view+json": {
              "model_id": "b417bdef0cc64947984c5c2cae7b22c4",
              "version_minor": 0,
              "version_major": 2
            },
            "text/plain": [
              "HBox(children=(FloatProgress(value=0.0, max=20446.0), HTML(value='')))"
            ]
          },
          "metadata": {
            "tags": []
          }
        },
        {
          "output_type": "stream",
          "text": [
            "\n"
          ],
          "name": "stdout"
        },
        {
          "output_type": "display_data",
          "data": {
            "application/vnd.jupyter.widget-view+json": {
              "model_id": "be82ebe982c44bce9cfbe781d33f09ab",
              "version_minor": 0,
              "version_major": 2
            },
            "text/plain": [
              "HBox(children=(FloatProgress(value=0.0, max=17374.0), HTML(value='')))"
            ]
          },
          "metadata": {
            "tags": []
          }
        },
        {
          "output_type": "stream",
          "text": [
            "\n"
          ],
          "name": "stdout"
        },
        {
          "output_type": "execute_result",
          "data": {
            "text/plain": [
              "([0, 1], [28800, 28800], [3, 3])"
            ]
          },
          "metadata": {
            "tags": []
          },
          "execution_count": 130
        }
      ]
    },
    {
      "cell_type": "code",
      "metadata": {
        "colab": {
          "base_uri": "https://localhost:8080/"
        },
        "id": "5qJfQYxhu468",
        "outputId": "3641f045-94e8-470f-f3b1-2ecefa2003e0"
      },
      "source": [
        "def closest(lst, K): \r\n",
        "\treturn lst[min(range(len(lst)), key = lambda i: abs(lst[i]-K))] \r\n",
        "\r\n",
        "\r\n",
        "def most_frequent(List): \r\n",
        "\treturn max(set(List), key = List.count) \r\n",
        "\r\n",
        "confirmedfile=most_frequent(file_collector)\r\n",
        "print(\"File : \",most_frequent(file_collector))\r\n",
        "\r\n",
        "print(\"Time : \",most_frequent(timestamp_collector)) \r\n",
        "\r\n",
        "\t"
      ],
      "execution_count": 120,
      "outputs": [
        {
          "output_type": "stream",
          "text": [
            "File :  3\n",
            "Time :  28800\n"
          ],
          "name": "stdout"
        }
      ]
    },
    {
      "cell_type": "code",
      "metadata": {
        "colab": {
          "base_uri": "https://localhost:8080/"
        },
        "id": "PN6blkSJ0Jgd",
        "outputId": "dc6b1f91-092e-4619-e188-9fca168ef34f"
      },
      "source": [
        "all_occurrences = []\r\n",
        "last_found_index = -1\r\n",
        "element_found = True\r\n",
        "timelist=[]\r\n",
        "\r\n",
        "# finding out most occured file to confirm the file number\r\n",
        "\r\n",
        "while element_found:\r\n",
        "    try:\r\n",
        "        last_found_index = file_collector.index(most_frequent(file_collector), last_found_index + 1)\r\n",
        "        all_occurrences.append(last_found_index)\r\n",
        "    except ValueError:\r\n",
        "        element_found = False\r\n",
        "\r\n",
        "\r\n",
        "# Finding the most likely time to confirm the probable time\r\n",
        "\r\n",
        "for i in range(len(timestamp_collector)):\r\n",
        "    if i in all_occurrences:\r\n",
        "        timelist.append(timestamp_collector[i])\r\n",
        "likely_time=most_frequent(timelist)\r\n",
        "print(\"Most Likely time = \",likely_time )\r\n",
        "\r\n",
        "\r\n",
        "K = likely_time\r\n",
        "\r\n",
        "# Search the closest midi point from that time  \r\n",
        "\r\n",
        "timestamps=[]\r\n",
        "for i in target_Tracks:\r\n",
        "    filename=i+'.csv'\r\n",
        "    temp=pd.read_csv(filename)\r\n",
        "    temp=list(temp.Timestamp)\r\n",
        "    timestamps.append(closest(temp,likely_time))\r\n",
        "\r\n"
      ],
      "execution_count": 121,
      "outputs": [
        {
          "output_type": "stream",
          "text": [
            "Most Likely time =  28800\n"
          ],
          "name": "stdout"
        }
      ]
    },
    {
      "cell_type": "markdown",
      "metadata": {
        "id": "TQwhARSS9pnI"
      },
      "source": [
        "**Correct Value Should be around 20**\r\n",
        "\r\n",
        "We chopped all the MIDI from around 20 secs"
      ]
    },
    {
      "cell_type": "code",
      "metadata": {
        "colab": {
          "base_uri": "https://localhost:8080/"
        },
        "id": "DbMFmWaZ6cke",
        "outputId": "c6dd4c82-7d1a-4fe3-fa88-13a9646d2f23"
      },
      "source": [
        "# print(60 * 1000000 / 100)  # 100 was the bpm when we edited the dataset\r\n",
        "print(600000/likely_time)\r\n",
        "print(confirmedfile)"
      ],
      "execution_count": 122,
      "outputs": [
        {
          "output_type": "stream",
          "text": [
            "20.833333333333332\n",
            "3\n"
          ],
          "name": "stdout"
        }
      ]
    },
    {
      "cell_type": "code",
      "metadata": {
        "colab": {
          "base_uri": "https://localhost:8080/"
        },
        "id": "ebM_G9WcOO0H",
        "outputId": "b84ed48f-d6f9-456f-e51a-47db3362d003"
      },
      "source": [
        "likely_time"
      ],
      "execution_count": 176,
      "outputs": [
        {
          "output_type": "execute_result",
          "data": {
            "text/plain": [
              "28800"
            ]
          },
          "metadata": {
            "tags": []
          },
          "execution_count": 176
        }
      ]
    },
    {
      "cell_type": "markdown",
      "metadata": {
        "id": "jB9gTwW894Zi"
      },
      "source": [
        "**Getting the timestretch**"
      ]
    },
    {
      "cell_type": "code",
      "metadata": {
        "colab": {
          "base_uri": "https://localhost:8080/"
        },
        "id": "pKq6hzcr93Xk",
        "outputId": "9e28bd54-96e9-4819-f628-6b6cb9f0d9cd"
      },
      "source": [
        "file1=pd.read_csv('/content/0.csv')\r\n",
        "file2=pd.read_csv('0find.csv')\r\n",
        "\r\n",
        "temp=file1[file1.Timestamp==likely_time]\r\n",
        "temp[temp.FileID==confirmedfile]\r\n",
        "l=temp[temp.FileID==confirmedfile]\r\n",
        "loc=l['Unnamed: 0']\r\n",
        "# print(loc)\r\n",
        "\r\n",
        "a=float(600000/int(file1.Timestamp.iloc[loc+1-15]))\r\n",
        "b=float(600000/int(file1.Timestamp.iloc[loc+2-15]))\r\n",
        "\r\n",
        "print(b-a)\r\n",
        "c=float(600000/int(file2.Timestamp.iloc[1]))\r\n",
        "d=float(600000/int(file2.Timestamp.iloc[2]))\r\n",
        "\r\n",
        "print(d-c)\r\n",
        "\r\n",
        "print(600000/int(file1.Timestamp.iloc[(loc+1)-15]))\r\n",
        "\r\n",
        "print(600000/int(file1.Timestamp.iloc[(loc+2)-15]))\r\n",
        "\r\n",
        "# print(file1.iloc[loc+1-15])\r\n",
        "# print(file1.iloc[loc+2-15])\r\n",
        "# print(file1.iloc[loc+3-15])\r\n",
        "# # # file2.iloc[0]\r\n",
        "# file2"
      ],
      "execution_count": 183,
      "outputs": [
        {
          "output_type": "stream",
          "text": [
            "-1.552409339294588\n",
            "-1000.0\n",
            "20.491803278688526\n",
            "18.939393939393938\n"
          ],
          "name": "stdout"
        }
      ]
    },
    {
      "cell_type": "code",
      "metadata": {
        "colab": {
          "base_uri": "https://localhost:8080/",
          "height": 80
        },
        "id": "j81oo_eBHofz",
        "outputId": "af0207ba-b198-4726-e713-883607e660b8"
      },
      "source": [
        "file1.iloc[loc+1]"
      ],
      "execution_count": 191,
      "outputs": [
        {
          "output_type": "execute_result",
          "data": {
            "text/html": [
              "<div>\n",
              "<style scoped>\n",
              "    .dataframe tbody tr th:only-of-type {\n",
              "        vertical-align: middle;\n",
              "    }\n",
              "\n",
              "    .dataframe tbody tr th {\n",
              "        vertical-align: top;\n",
              "    }\n",
              "\n",
              "    .dataframe thead th {\n",
              "        text-align: right;\n",
              "    }\n",
              "</style>\n",
              "<table border=\"1\" class=\"dataframe\">\n",
              "  <thead>\n",
              "    <tr style=\"text-align: right;\">\n",
              "      <th></th>\n",
              "      <th>Unnamed: 0</th>\n",
              "      <th>A</th>\n",
              "      <th>Timestamp</th>\n",
              "      <th>NotePress</th>\n",
              "      <th>Track</th>\n",
              "      <th>Pitch</th>\n",
              "      <th>Velocity</th>\n",
              "      <th>G</th>\n",
              "      <th>FileID</th>\n",
              "    </tr>\n",
              "  </thead>\n",
              "  <tbody>\n",
              "    <tr>\n",
              "      <th>26</th>\n",
              "      <td>41</td>\n",
              "      <td>2</td>\n",
              "      <td>36960</td>\n",
              "      <td>Note_on_c</td>\n",
              "      <td>0</td>\n",
              "      <td>77</td>\n",
              "      <td>81</td>\n",
              "      <td>NaN</td>\n",
              "      <td>3</td>\n",
              "    </tr>\n",
              "  </tbody>\n",
              "</table>\n",
              "</div>"
            ],
            "text/plain": [
              "    Unnamed: 0  A  Timestamp  NotePress  Track  Pitch  Velocity   G  FileID\n",
              "26          41  2      36960  Note_on_c      0     77        81 NaN       3"
            ]
          },
          "metadata": {
            "tags": []
          },
          "execution_count": 191
        }
      ]
    }
  ]
}