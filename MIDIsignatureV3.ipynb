{
  "nbformat": 4,
  "nbformat_minor": 0,
  "metadata": {
    "colab": {
      "name": "MIDIsignatureV3.ipynb",
      "provenance": [],
      "collapsed_sections": [],
      "authorship_tag": "ABX9TyOyxKN9608pY2kmLOBgo+8Y",
      "include_colab_link": true
    },
    "kernelspec": {
      "name": "python3",
      "display_name": "Python 3"
    },
    "widgets": {
      "application/vnd.jupyter.widget-state+json": {
        "909942908e8a4ce58396319c2d44be01": {
          "model_module": "@jupyter-widgets/controls",
          "model_name": "HBoxModel",
          "state": {
            "_view_name": "HBoxView",
            "_dom_classes": [],
            "_model_name": "HBoxModel",
            "_view_module": "@jupyter-widgets/controls",
            "_model_module_version": "1.5.0",
            "_view_count": null,
            "_view_module_version": "1.5.0",
            "box_style": "",
            "layout": "IPY_MODEL_603d36fba36244048d8e5491c532a641",
            "_model_module": "@jupyter-widgets/controls",
            "children": [
              "IPY_MODEL_72ecd6e148454cd9b9b8950e732eeedc",
              "IPY_MODEL_f01ef812491848f7b069884acbc31b30"
            ]
          }
        },
        "603d36fba36244048d8e5491c532a641": {
          "model_module": "@jupyter-widgets/base",
          "model_name": "LayoutModel",
          "state": {
            "_view_name": "LayoutView",
            "grid_template_rows": null,
            "right": null,
            "justify_content": null,
            "_view_module": "@jupyter-widgets/base",
            "overflow": null,
            "_model_module_version": "1.2.0",
            "_view_count": null,
            "flex_flow": null,
            "width": null,
            "min_width": null,
            "border": null,
            "align_items": null,
            "bottom": null,
            "_model_module": "@jupyter-widgets/base",
            "top": null,
            "grid_column": null,
            "overflow_y": null,
            "overflow_x": null,
            "grid_auto_flow": null,
            "grid_area": null,
            "grid_template_columns": null,
            "flex": null,
            "_model_name": "LayoutModel",
            "justify_items": null,
            "grid_row": null,
            "max_height": null,
            "align_content": null,
            "visibility": null,
            "align_self": null,
            "height": null,
            "min_height": null,
            "padding": null,
            "grid_auto_rows": null,
            "grid_gap": null,
            "max_width": null,
            "order": null,
            "_view_module_version": "1.2.0",
            "grid_template_areas": null,
            "object_position": null,
            "object_fit": null,
            "grid_auto_columns": null,
            "margin": null,
            "display": null,
            "left": null
          }
        },
        "72ecd6e148454cd9b9b8950e732eeedc": {
          "model_module": "@jupyter-widgets/controls",
          "model_name": "FloatProgressModel",
          "state": {
            "_view_name": "ProgressView",
            "style": "IPY_MODEL_d724512abfc340168e3dc12664c5dd9e",
            "_dom_classes": [],
            "description": "100%",
            "_model_name": "FloatProgressModel",
            "bar_style": "success",
            "max": 44,
            "_view_module": "@jupyter-widgets/controls",
            "_model_module_version": "1.5.0",
            "value": 44,
            "_view_count": null,
            "_view_module_version": "1.5.0",
            "orientation": "horizontal",
            "min": 0,
            "description_tooltip": null,
            "_model_module": "@jupyter-widgets/controls",
            "layout": "IPY_MODEL_3f5d8afe3e0045a9a7149804336d77a1"
          }
        },
        "f01ef812491848f7b069884acbc31b30": {
          "model_module": "@jupyter-widgets/controls",
          "model_name": "HTMLModel",
          "state": {
            "_view_name": "HTMLView",
            "style": "IPY_MODEL_c77870ad071f4b75b1bb90945ec66966",
            "_dom_classes": [],
            "description": "",
            "_model_name": "HTMLModel",
            "placeholder": "​",
            "_view_module": "@jupyter-widgets/controls",
            "_model_module_version": "1.5.0",
            "value": " 44/44 [52:56&lt;00:00, 72.19s/it]",
            "_view_count": null,
            "_view_module_version": "1.5.0",
            "description_tooltip": null,
            "_model_module": "@jupyter-widgets/controls",
            "layout": "IPY_MODEL_609df7b6546a416289e777ba27bdf9c5"
          }
        },
        "d724512abfc340168e3dc12664c5dd9e": {
          "model_module": "@jupyter-widgets/controls",
          "model_name": "ProgressStyleModel",
          "state": {
            "_view_name": "StyleView",
            "_model_name": "ProgressStyleModel",
            "description_width": "initial",
            "_view_module": "@jupyter-widgets/base",
            "_model_module_version": "1.5.0",
            "_view_count": null,
            "_view_module_version": "1.2.0",
            "bar_color": null,
            "_model_module": "@jupyter-widgets/controls"
          }
        },
        "3f5d8afe3e0045a9a7149804336d77a1": {
          "model_module": "@jupyter-widgets/base",
          "model_name": "LayoutModel",
          "state": {
            "_view_name": "LayoutView",
            "grid_template_rows": null,
            "right": null,
            "justify_content": null,
            "_view_module": "@jupyter-widgets/base",
            "overflow": null,
            "_model_module_version": "1.2.0",
            "_view_count": null,
            "flex_flow": null,
            "width": null,
            "min_width": null,
            "border": null,
            "align_items": null,
            "bottom": null,
            "_model_module": "@jupyter-widgets/base",
            "top": null,
            "grid_column": null,
            "overflow_y": null,
            "overflow_x": null,
            "grid_auto_flow": null,
            "grid_area": null,
            "grid_template_columns": null,
            "flex": null,
            "_model_name": "LayoutModel",
            "justify_items": null,
            "grid_row": null,
            "max_height": null,
            "align_content": null,
            "visibility": null,
            "align_self": null,
            "height": null,
            "min_height": null,
            "padding": null,
            "grid_auto_rows": null,
            "grid_gap": null,
            "max_width": null,
            "order": null,
            "_view_module_version": "1.2.0",
            "grid_template_areas": null,
            "object_position": null,
            "object_fit": null,
            "grid_auto_columns": null,
            "margin": null,
            "display": null,
            "left": null
          }
        },
        "c77870ad071f4b75b1bb90945ec66966": {
          "model_module": "@jupyter-widgets/controls",
          "model_name": "DescriptionStyleModel",
          "state": {
            "_view_name": "StyleView",
            "_model_name": "DescriptionStyleModel",
            "description_width": "",
            "_view_module": "@jupyter-widgets/base",
            "_model_module_version": "1.5.0",
            "_view_count": null,
            "_view_module_version": "1.2.0",
            "_model_module": "@jupyter-widgets/controls"
          }
        },
        "609df7b6546a416289e777ba27bdf9c5": {
          "model_module": "@jupyter-widgets/base",
          "model_name": "LayoutModel",
          "state": {
            "_view_name": "LayoutView",
            "grid_template_rows": null,
            "right": null,
            "justify_content": null,
            "_view_module": "@jupyter-widgets/base",
            "overflow": null,
            "_model_module_version": "1.2.0",
            "_view_count": null,
            "flex_flow": null,
            "width": null,
            "min_width": null,
            "border": null,
            "align_items": null,
            "bottom": null,
            "_model_module": "@jupyter-widgets/base",
            "top": null,
            "grid_column": null,
            "overflow_y": null,
            "overflow_x": null,
            "grid_auto_flow": null,
            "grid_area": null,
            "grid_template_columns": null,
            "flex": null,
            "_model_name": "LayoutModel",
            "justify_items": null,
            "grid_row": null,
            "max_height": null,
            "align_content": null,
            "visibility": null,
            "align_self": null,
            "height": null,
            "min_height": null,
            "padding": null,
            "grid_auto_rows": null,
            "grid_gap": null,
            "max_width": null,
            "order": null,
            "_view_module_version": "1.2.0",
            "grid_template_areas": null,
            "object_position": null,
            "object_fit": null,
            "grid_auto_columns": null,
            "margin": null,
            "display": null,
            "left": null
          }
        },
        "8d254089ed434a3299ac0d3f3c1b8e70": {
          "model_module": "@jupyter-widgets/controls",
          "model_name": "HBoxModel",
          "state": {
            "_view_name": "HBoxView",
            "_dom_classes": [],
            "_model_name": "HBoxModel",
            "_view_module": "@jupyter-widgets/controls",
            "_model_module_version": "1.5.0",
            "_view_count": null,
            "_view_module_version": "1.5.0",
            "box_style": "",
            "layout": "IPY_MODEL_f688aa74f5b047f691cf85af543c3d02",
            "_model_module": "@jupyter-widgets/controls",
            "children": [
              "IPY_MODEL_586f34780fd040d59a73e6b30affd636",
              "IPY_MODEL_39cce941ca8642688b622b9d2843afa7"
            ]
          }
        },
        "f688aa74f5b047f691cf85af543c3d02": {
          "model_module": "@jupyter-widgets/base",
          "model_name": "LayoutModel",
          "state": {
            "_view_name": "LayoutView",
            "grid_template_rows": null,
            "right": null,
            "justify_content": null,
            "_view_module": "@jupyter-widgets/base",
            "overflow": null,
            "_model_module_version": "1.2.0",
            "_view_count": null,
            "flex_flow": null,
            "width": null,
            "min_width": null,
            "border": null,
            "align_items": null,
            "bottom": null,
            "_model_module": "@jupyter-widgets/base",
            "top": null,
            "grid_column": null,
            "overflow_y": null,
            "overflow_x": null,
            "grid_auto_flow": null,
            "grid_area": null,
            "grid_template_columns": null,
            "flex": null,
            "_model_name": "LayoutModel",
            "justify_items": null,
            "grid_row": null,
            "max_height": null,
            "align_content": null,
            "visibility": null,
            "align_self": null,
            "height": null,
            "min_height": null,
            "padding": null,
            "grid_auto_rows": null,
            "grid_gap": null,
            "max_width": null,
            "order": null,
            "_view_module_version": "1.2.0",
            "grid_template_areas": null,
            "object_position": null,
            "object_fit": null,
            "grid_auto_columns": null,
            "margin": null,
            "display": null,
            "left": null
          }
        },
        "586f34780fd040d59a73e6b30affd636": {
          "model_module": "@jupyter-widgets/controls",
          "model_name": "FloatProgressModel",
          "state": {
            "_view_name": "ProgressView",
            "style": "IPY_MODEL_075896502eb54c52bc45c1b35556aa5c",
            "_dom_classes": [],
            "description": "100%",
            "_model_name": "FloatProgressModel",
            "bar_style": "success",
            "max": 20446,
            "_view_module": "@jupyter-widgets/controls",
            "_model_module_version": "1.5.0",
            "value": 20446,
            "_view_count": null,
            "_view_module_version": "1.5.0",
            "orientation": "horizontal",
            "min": 0,
            "description_tooltip": null,
            "_model_module": "@jupyter-widgets/controls",
            "layout": "IPY_MODEL_32daa035d61d4df6b6afdc59c0be11da"
          }
        },
        "39cce941ca8642688b622b9d2843afa7": {
          "model_module": "@jupyter-widgets/controls",
          "model_name": "HTMLModel",
          "state": {
            "_view_name": "HTMLView",
            "style": "IPY_MODEL_56b92e9ca34044b8a80f3743cacf1482",
            "_dom_classes": [],
            "description": "",
            "_model_name": "HTMLModel",
            "placeholder": "​",
            "_view_module": "@jupyter-widgets/controls",
            "_model_module_version": "1.5.0",
            "value": " 20446/20446 [00:02&lt;00:00, 8671.52it/s]",
            "_view_count": null,
            "_view_module_version": "1.5.0",
            "description_tooltip": null,
            "_model_module": "@jupyter-widgets/controls",
            "layout": "IPY_MODEL_e70f97f3e76741b1a2fbd585953aecba"
          }
        },
        "075896502eb54c52bc45c1b35556aa5c": {
          "model_module": "@jupyter-widgets/controls",
          "model_name": "ProgressStyleModel",
          "state": {
            "_view_name": "StyleView",
            "_model_name": "ProgressStyleModel",
            "description_width": "initial",
            "_view_module": "@jupyter-widgets/base",
            "_model_module_version": "1.5.0",
            "_view_count": null,
            "_view_module_version": "1.2.0",
            "bar_color": null,
            "_model_module": "@jupyter-widgets/controls"
          }
        },
        "32daa035d61d4df6b6afdc59c0be11da": {
          "model_module": "@jupyter-widgets/base",
          "model_name": "LayoutModel",
          "state": {
            "_view_name": "LayoutView",
            "grid_template_rows": null,
            "right": null,
            "justify_content": null,
            "_view_module": "@jupyter-widgets/base",
            "overflow": null,
            "_model_module_version": "1.2.0",
            "_view_count": null,
            "flex_flow": null,
            "width": null,
            "min_width": null,
            "border": null,
            "align_items": null,
            "bottom": null,
            "_model_module": "@jupyter-widgets/base",
            "top": null,
            "grid_column": null,
            "overflow_y": null,
            "overflow_x": null,
            "grid_auto_flow": null,
            "grid_area": null,
            "grid_template_columns": null,
            "flex": null,
            "_model_name": "LayoutModel",
            "justify_items": null,
            "grid_row": null,
            "max_height": null,
            "align_content": null,
            "visibility": null,
            "align_self": null,
            "height": null,
            "min_height": null,
            "padding": null,
            "grid_auto_rows": null,
            "grid_gap": null,
            "max_width": null,
            "order": null,
            "_view_module_version": "1.2.0",
            "grid_template_areas": null,
            "object_position": null,
            "object_fit": null,
            "grid_auto_columns": null,
            "margin": null,
            "display": null,
            "left": null
          }
        },
        "56b92e9ca34044b8a80f3743cacf1482": {
          "model_module": "@jupyter-widgets/controls",
          "model_name": "DescriptionStyleModel",
          "state": {
            "_view_name": "StyleView",
            "_model_name": "DescriptionStyleModel",
            "description_width": "",
            "_view_module": "@jupyter-widgets/base",
            "_model_module_version": "1.5.0",
            "_view_count": null,
            "_view_module_version": "1.2.0",
            "_model_module": "@jupyter-widgets/controls"
          }
        },
        "e70f97f3e76741b1a2fbd585953aecba": {
          "model_module": "@jupyter-widgets/base",
          "model_name": "LayoutModel",
          "state": {
            "_view_name": "LayoutView",
            "grid_template_rows": null,
            "right": null,
            "justify_content": null,
            "_view_module": "@jupyter-widgets/base",
            "overflow": null,
            "_model_module_version": "1.2.0",
            "_view_count": null,
            "flex_flow": null,
            "width": null,
            "min_width": null,
            "border": null,
            "align_items": null,
            "bottom": null,
            "_model_module": "@jupyter-widgets/base",
            "top": null,
            "grid_column": null,
            "overflow_y": null,
            "overflow_x": null,
            "grid_auto_flow": null,
            "grid_area": null,
            "grid_template_columns": null,
            "flex": null,
            "_model_name": "LayoutModel",
            "justify_items": null,
            "grid_row": null,
            "max_height": null,
            "align_content": null,
            "visibility": null,
            "align_self": null,
            "height": null,
            "min_height": null,
            "padding": null,
            "grid_auto_rows": null,
            "grid_gap": null,
            "max_width": null,
            "order": null,
            "_view_module_version": "1.2.0",
            "grid_template_areas": null,
            "object_position": null,
            "object_fit": null,
            "grid_auto_columns": null,
            "margin": null,
            "display": null,
            "left": null
          }
        },
        "e9ed5db08bb6457f88f36fea0c0b5f28": {
          "model_module": "@jupyter-widgets/controls",
          "model_name": "HBoxModel",
          "state": {
            "_view_name": "HBoxView",
            "_dom_classes": [],
            "_model_name": "HBoxModel",
            "_view_module": "@jupyter-widgets/controls",
            "_model_module_version": "1.5.0",
            "_view_count": null,
            "_view_module_version": "1.5.0",
            "box_style": "",
            "layout": "IPY_MODEL_0bcf8918e36e4748992a01a47155c5aa",
            "_model_module": "@jupyter-widgets/controls",
            "children": [
              "IPY_MODEL_1b4d09b7f2d2418c85c166b14a901893",
              "IPY_MODEL_fe129cfa6a7244db8006a649c1982841"
            ]
          }
        },
        "0bcf8918e36e4748992a01a47155c5aa": {
          "model_module": "@jupyter-widgets/base",
          "model_name": "LayoutModel",
          "state": {
            "_view_name": "LayoutView",
            "grid_template_rows": null,
            "right": null,
            "justify_content": null,
            "_view_module": "@jupyter-widgets/base",
            "overflow": null,
            "_model_module_version": "1.2.0",
            "_view_count": null,
            "flex_flow": null,
            "width": null,
            "min_width": null,
            "border": null,
            "align_items": null,
            "bottom": null,
            "_model_module": "@jupyter-widgets/base",
            "top": null,
            "grid_column": null,
            "overflow_y": null,
            "overflow_x": null,
            "grid_auto_flow": null,
            "grid_area": null,
            "grid_template_columns": null,
            "flex": null,
            "_model_name": "LayoutModel",
            "justify_items": null,
            "grid_row": null,
            "max_height": null,
            "align_content": null,
            "visibility": null,
            "align_self": null,
            "height": null,
            "min_height": null,
            "padding": null,
            "grid_auto_rows": null,
            "grid_gap": null,
            "max_width": null,
            "order": null,
            "_view_module_version": "1.2.0",
            "grid_template_areas": null,
            "object_position": null,
            "object_fit": null,
            "grid_auto_columns": null,
            "margin": null,
            "display": null,
            "left": null
          }
        },
        "1b4d09b7f2d2418c85c166b14a901893": {
          "model_module": "@jupyter-widgets/controls",
          "model_name": "FloatProgressModel",
          "state": {
            "_view_name": "ProgressView",
            "style": "IPY_MODEL_9cb5fbe2afef4ad5851877ea35dda959",
            "_dom_classes": [],
            "description": "100%",
            "_model_name": "FloatProgressModel",
            "bar_style": "success",
            "max": 17374,
            "_view_module": "@jupyter-widgets/controls",
            "_model_module_version": "1.5.0",
            "value": 17374,
            "_view_count": null,
            "_view_module_version": "1.5.0",
            "orientation": "horizontal",
            "min": 0,
            "description_tooltip": null,
            "_model_module": "@jupyter-widgets/controls",
            "layout": "IPY_MODEL_14808f4a31c74ab9b10c881d1b047dc3"
          }
        },
        "fe129cfa6a7244db8006a649c1982841": {
          "model_module": "@jupyter-widgets/controls",
          "model_name": "HTMLModel",
          "state": {
            "_view_name": "HTMLView",
            "style": "IPY_MODEL_453a840291ac4154a623ee2ca86dd42f",
            "_dom_classes": [],
            "description": "",
            "_model_name": "HTMLModel",
            "placeholder": "​",
            "_view_module": "@jupyter-widgets/controls",
            "_model_module_version": "1.5.0",
            "value": " 17374/17374 [00:01&lt;00:00, 14325.60it/s]",
            "_view_count": null,
            "_view_module_version": "1.5.0",
            "description_tooltip": null,
            "_model_module": "@jupyter-widgets/controls",
            "layout": "IPY_MODEL_a23a671519134a7b830d3af205b9b999"
          }
        },
        "9cb5fbe2afef4ad5851877ea35dda959": {
          "model_module": "@jupyter-widgets/controls",
          "model_name": "ProgressStyleModel",
          "state": {
            "_view_name": "StyleView",
            "_model_name": "ProgressStyleModel",
            "description_width": "initial",
            "_view_module": "@jupyter-widgets/base",
            "_model_module_version": "1.5.0",
            "_view_count": null,
            "_view_module_version": "1.2.0",
            "bar_color": null,
            "_model_module": "@jupyter-widgets/controls"
          }
        },
        "14808f4a31c74ab9b10c881d1b047dc3": {
          "model_module": "@jupyter-widgets/base",
          "model_name": "LayoutModel",
          "state": {
            "_view_name": "LayoutView",
            "grid_template_rows": null,
            "right": null,
            "justify_content": null,
            "_view_module": "@jupyter-widgets/base",
            "overflow": null,
            "_model_module_version": "1.2.0",
            "_view_count": null,
            "flex_flow": null,
            "width": null,
            "min_width": null,
            "border": null,
            "align_items": null,
            "bottom": null,
            "_model_module": "@jupyter-widgets/base",
            "top": null,
            "grid_column": null,
            "overflow_y": null,
            "overflow_x": null,
            "grid_auto_flow": null,
            "grid_area": null,
            "grid_template_columns": null,
            "flex": null,
            "_model_name": "LayoutModel",
            "justify_items": null,
            "grid_row": null,
            "max_height": null,
            "align_content": null,
            "visibility": null,
            "align_self": null,
            "height": null,
            "min_height": null,
            "padding": null,
            "grid_auto_rows": null,
            "grid_gap": null,
            "max_width": null,
            "order": null,
            "_view_module_version": "1.2.0",
            "grid_template_areas": null,
            "object_position": null,
            "object_fit": null,
            "grid_auto_columns": null,
            "margin": null,
            "display": null,
            "left": null
          }
        },
        "453a840291ac4154a623ee2ca86dd42f": {
          "model_module": "@jupyter-widgets/controls",
          "model_name": "DescriptionStyleModel",
          "state": {
            "_view_name": "StyleView",
            "_model_name": "DescriptionStyleModel",
            "description_width": "",
            "_view_module": "@jupyter-widgets/base",
            "_model_module_version": "1.5.0",
            "_view_count": null,
            "_view_module_version": "1.2.0",
            "_model_module": "@jupyter-widgets/controls"
          }
        },
        "a23a671519134a7b830d3af205b9b999": {
          "model_module": "@jupyter-widgets/base",
          "model_name": "LayoutModel",
          "state": {
            "_view_name": "LayoutView",
            "grid_template_rows": null,
            "right": null,
            "justify_content": null,
            "_view_module": "@jupyter-widgets/base",
            "overflow": null,
            "_model_module_version": "1.2.0",
            "_view_count": null,
            "flex_flow": null,
            "width": null,
            "min_width": null,
            "border": null,
            "align_items": null,
            "bottom": null,
            "_model_module": "@jupyter-widgets/base",
            "top": null,
            "grid_column": null,
            "overflow_y": null,
            "overflow_x": null,
            "grid_auto_flow": null,
            "grid_area": null,
            "grid_template_columns": null,
            "flex": null,
            "_model_name": "LayoutModel",
            "justify_items": null,
            "grid_row": null,
            "max_height": null,
            "align_content": null,
            "visibility": null,
            "align_self": null,
            "height": null,
            "min_height": null,
            "padding": null,
            "grid_auto_rows": null,
            "grid_gap": null,
            "max_width": null,
            "order": null,
            "_view_module_version": "1.2.0",
            "grid_template_areas": null,
            "object_position": null,
            "object_fit": null,
            "grid_auto_columns": null,
            "margin": null,
            "display": null,
            "left": null
          }
        }
      }
    }
  },
  "cells": [
    {
      "cell_type": "markdown",
      "metadata": {
        "id": "view-in-github",
        "colab_type": "text"
      },
      "source": [
        "<a href=\"https://colab.research.google.com/github/SutirthaChakraborty/MatchMiDi/blob/main/MIDIsignatureV3.ipynb\" target=\"_parent\"><img src=\"https://colab.research.google.com/assets/colab-badge.svg\" alt=\"Open In Colab\"/></a>"
      ]
    },
    {
      "cell_type": "markdown",
      "metadata": {
        "id": "MN-jHh75SY--"
      },
      "source": [
        "File details-\r\n",
        "\r\n",
        "Dataset\r\n",
        "----------\r\n",
        "0.csv\r\n",
        "\r\n",
        "1.csv\r\n",
        "\r\n",
        "2.csv\r\n",
        "\r\n",
        "3.csv\r\n",
        "\r\n",
        "4.csv\r\n",
        "\r\n",
        "5.csv\r\n",
        "\r\n",
        "\r\n",
        "Find Sample\r\n",
        "------------\r\n",
        "0find.csv\r\n",
        "\r\n",
        "0pitch.csv\r\n",
        "\r\n",
        "0time.csv"
      ]
    },
    {
      "cell_type": "code",
      "metadata": {
        "id": "LGbprY6MrTfV",
        "colab": {
          "base_uri": "https://localhost:8080/"
        },
        "outputId": "f58dad94-d969-490b-922f-a45df73ec312"
      },
      "source": [
        "!rm -rf data\r\n",
        "!rm -rf MixcraftDataset\r\n",
        "!rm -rf testingdatapaper/\r\n",
        "!rm -rf testingFiles/\r\n",
        "!rm -rf dataFiles/\r\n",
        "\r\n",
        "!git clone https://github.com/SutirthaChakraborty/MatchMiDi.git\r\n",
        "\r\n",
        "\r\n",
        "\r\n",
        "!pip install py_midicsv\r\n",
        "!pip install python-Levenshtein\r\n",
        "!unzip /content/MatchMiDi/data.zip\r\n",
        "!unzip /content/MatchMiDi/MixcraftDataset.zip\r\n",
        "!pip install progressbar\r\n",
        "from tqdm import tqdm_notebook as tqdm\r\n",
        "import matplotlib.pyplot as plt\r\n",
        "import warnings\r\n",
        "warnings.filterwarnings('ignore')\r\n",
        "\r\n",
        "\r\n"
      ],
      "execution_count": 1,
      "outputs": [
        {
          "output_type": "stream",
          "text": [
            "Cloning into 'MatchMiDi'...\n",
            "remote: Enumerating objects: 30, done.\u001b[K\n",
            "remote: Counting objects: 100% (30/30), done.\u001b[K\n",
            "remote: Compressing objects: 100% (28/28), done.\u001b[K\n",
            "remote: Total 30 (delta 11), reused 0 (delta 0), pack-reused 0\u001b[K\n",
            "Unpacking objects: 100% (30/30), done.\n",
            "Collecting py_midicsv\n",
            "  Downloading https://files.pythonhosted.org/packages/d8/63/06c0f87420f48d30336cee87de142351681263f98c4f071e6c5ab3102199/py_midicsv-1.12.0-py3-none-any.whl\n",
            "Installing collected packages: py-midicsv\n",
            "Successfully installed py-midicsv-1.12.0\n",
            "Collecting python-Levenshtein\n",
            "\u001b[?25l  Downloading https://files.pythonhosted.org/packages/2a/dc/97f2b63ef0fa1fd78dcb7195aca577804f6b2b51e712516cc0e902a9a201/python-Levenshtein-0.12.2.tar.gz (50kB)\n",
            "\u001b[K     |████████████████████████████████| 51kB 2.8MB/s \n",
            "\u001b[?25hRequirement already satisfied: setuptools in /usr/local/lib/python3.6/dist-packages (from python-Levenshtein) (53.0.0)\n",
            "Building wheels for collected packages: python-Levenshtein\n",
            "  Building wheel for python-Levenshtein (setup.py) ... \u001b[?25l\u001b[?25hdone\n",
            "  Created wheel for python-Levenshtein: filename=python_Levenshtein-0.12.2-cp36-cp36m-linux_x86_64.whl size=148891 sha256=de109a41d87e0bda7d4c15e1b575a17b6c0f150c748e9c82fb92898d8ec58d77\n",
            "  Stored in directory: /root/.cache/pip/wheels/b3/26/73/4b48503bac73f01cf18e52cd250947049a7f339e940c5df8fc\n",
            "Successfully built python-Levenshtein\n",
            "Installing collected packages: python-Levenshtein\n",
            "Successfully installed python-Levenshtein-0.12.2\n",
            "Archive:  /content/MatchMiDi/data.zip\n",
            "  inflating: data/Sco_01_Jupiter_vn_vc.mid  \n",
            "  inflating: data/Sco_02_Sonata_vn_vn.mid  \n",
            "  inflating: data/Sco_03_Dance_fl_cl.mid  \n",
            "  inflating: data/Sco_04_Allegro_fl_fl.mid  \n",
            "  inflating: data/Sco_05_Entertainer_tpt_tpt.mid  \n",
            "  inflating: data/Sco_06_Entertainer_sax_sax.mid  \n",
            "  inflating: data/Sco_07_GString_tpt_tbn.mid  \n",
            "  inflating: data/Sco_08_Spring_fl_vn.mid  \n",
            "  inflating: data/Sco_09_Jesus_tpt_vn.mid  \n",
            "  inflating: data/Sco_10_March_tpt_sax.mid  \n",
            "  inflating: data/Sco_11_Maria_ob_vc.mid  \n",
            "  inflating: data/Sco_12_Spring_vn_vn_vc.mid  \n",
            "  inflating: data/Sco_13_Hark_vn_vn_va.mid  \n",
            "  inflating: data/Sco_14_Waltz_fl_fl_cl.mid  \n",
            "  inflating: data/Sco_15_Surprise_tpt_tpt_tbn.mid  \n",
            "  inflating: data/Sco_16_Surprise_tpt_tpt_sax.mid  \n",
            "  inflating: data/Sco_17_Nocturne_vn_fl_cl.mid  \n",
            "  inflating: data/Sco_18_Nocturne_vn_fl_tpt.mid  \n",
            "  inflating: data/Sco_19_Pavane_cl_vn_vc.mid  \n",
            "  inflating: data/Sco_20_Pavane_tpt_vn_vc.mid  \n",
            "  inflating: data/Sco_21_Rejouissance_cl_tbn_tba.mid  \n",
            "  inflating: data/Sco_22_Rejouissance_sax_tbn_tba.mid  \n",
            "  inflating: data/Sco_23_Rejouissance_cl_sax_tba.mid  \n",
            "  inflating: data/Sco_24_Pirates_vn_vn_va_vc.mid  \n",
            "  inflating: data/Sco_25_Pirates_vn_vn_va_sax.mid  \n",
            "  inflating: data/Sco_26_King_vn_vn_va_vc.mid  \n",
            "  inflating: data/Sco_27_King_vn_vn_va_sax.mid  \n",
            "  inflating: data/Sco_28_Fugue_fl_ob_cl_bn.mid  \n",
            "  inflating: data/Sco_29_Fugue_fl_fl_ob_cl.mid  \n",
            "  inflating: data/Sco_30_Fugue_fl_fl_ob_sax.mid  \n",
            "  inflating: data/Sco_31_Slavonic_tpt_tpt_hn_tbn.mid  \n",
            "  inflating: data/Sco_32_Fugue_vn_vn_va_vc.mid  \n",
            "  inflating: data/Sco_33_Elise_tpt_tpt_hn_tbn.mid  \n",
            "  inflating: data/Sco_34_Fugue_tpt_tpt_hn_tbn.mid  \n",
            "  inflating: data/Sco_35_Rondeau_vn_vn_va_db.mid  \n",
            "  inflating: data/Sco_36_Rondeau_vn_vn_va_vc.mid  \n",
            "  inflating: data/Sco_37_Rondeau_fl_vn_va_cl.mid  \n",
            "  inflating: data/Sco_38_Jerusalem_vn_vn_va_vc_db.mid  \n",
            "  inflating: data/Sco_39_Jerusalem_vn_vn_va_sax_db.mid  \n",
            "  inflating: data/Sco_40_Miserere_fl_fl_ob_cl_bn.mid  \n",
            "  inflating: data/Sco_41_Miserere_fl_fl_ob_sax_bn.mid  \n",
            "  inflating: data/Sco_42_Arioso_tpt_tpt_hn_tbn_tba.mid  \n",
            "  inflating: data/Sco_43_Chorale_tpt_tpt_hn_tbn_tba.mid  \n",
            "  inflating: data/Sco_44_K515_vn_vn_va_va_vc.mid  \n",
            "Archive:  /content/MatchMiDi/MixcraftDataset.zip\n",
            "  inflating: MixcraftDataset/File - 03 - 1 sec.mid  \n",
            "  inflating: MixcraftDataset/File - 03 - 10 sec.mid  \n",
            "  inflating: MixcraftDataset/File - 03 - 2 sec.mid  \n",
            "  inflating: MixcraftDataset/File - 03 - 3 sec.mid  \n",
            "  inflating: MixcraftDataset/File - 03 - 4 sec.mid  \n",
            "  inflating: MixcraftDataset/File - 03 - 5 sec.mid  \n",
            "  inflating: MixcraftDataset/File - 03 - 6 sec.mid  \n",
            "  inflating: MixcraftDataset/File - 12 - 1 sec.mid  \n",
            "  inflating: MixcraftDataset/File - 12 - 10 sec.mid  \n",
            "  inflating: MixcraftDataset/File - 12 - 2 sec.mid  \n",
            "  inflating: MixcraftDataset/File - 12 - 3 sec.mid  \n",
            "  inflating: MixcraftDataset/File - 12 - 4 sec.mid  \n",
            "  inflating: MixcraftDataset/File - 12 - 5 sec.mid  \n",
            "  inflating: MixcraftDataset/File - 12 - 6 sec.mid  \n",
            "  inflating: MixcraftDataset/File - 24 - 1 sec.mid  \n",
            "  inflating: MixcraftDataset/File - 24 - 10 sec.mid  \n",
            "  inflating: MixcraftDataset/File - 24 - 2 sec.mid  \n",
            "  inflating: MixcraftDataset/File - 24 - 3 sec.mid  \n",
            "  inflating: MixcraftDataset/File - 24 - 4 sec.mid  \n",
            "  inflating: MixcraftDataset/File - 24 - 5 sec.mid  \n",
            "  inflating: MixcraftDataset/File - 24 - 6 sec.mid  \n",
            "  inflating: MixcraftDataset/File - 44 - 1 sec.mid  \n",
            "  inflating: MixcraftDataset/File - 44 - 10 sec.mid  \n",
            "  inflating: MixcraftDataset/File - 44 - 2 sec.mid  \n",
            "  inflating: MixcraftDataset/File - 44 - 3 sec.mid  \n",
            "  inflating: MixcraftDataset/File - 44 - 4 sec.mid  \n",
            "  inflating: MixcraftDataset/File - 44 - 5 sec.mid  \n",
            "  inflating: MixcraftDataset/File - 44 - 6 sec.mid  \n",
            "Collecting progressbar\n",
            "  Downloading https://files.pythonhosted.org/packages/a3/a6/b8e451f6cff1c99b4747a2f7235aa904d2d49e8e1464e0b798272aa84358/progressbar-2.5.tar.gz\n",
            "Building wheels for collected packages: progressbar\n",
            "  Building wheel for progressbar (setup.py) ... \u001b[?25l\u001b[?25hdone\n",
            "  Created wheel for progressbar: filename=progressbar-2.5-cp36-none-any.whl size=12075 sha256=718087383e2d97e897e762fb022968ec3e475bd50afce601ef792cbf9ee3733e\n",
            "  Stored in directory: /root/.cache/pip/wheels/c0/e9/6b/ea01090205e285175842339aa3b491adeb4015206cda272ff0\n",
            "Successfully built progressbar\n",
            "Installing collected packages: progressbar\n",
            "Successfully installed progressbar-2.5\n"
          ],
          "name": "stdout"
        }
      ]
    },
    {
      "cell_type": "code",
      "metadata": {
        "id": "Rm4BNbxKriuC"
      },
      "source": [
        "import Levenshtein\r\n",
        "def distance(tar,total):\r\n",
        "    k=[]\r\n",
        "    for i in tqdm(range(len(total)-len(tar))):\r\n",
        "        k.append(Levenshtein.distance(str(tar),str(total[i:i+len(tar)])))\r\n",
        "    # plt.plot(k)\r\n",
        "    block=k.index(min(k))\r\n",
        "    # print(\"Minimum value= \",min(k))\r\n",
        "    # print(\"time =\", total['Timestamp'].iloc[block+1])\r\n",
        "    return k,block\r\n"
      ],
      "execution_count": 2,
      "outputs": []
    },
    {
      "cell_type": "markdown",
      "metadata": {
        "id": "l1IvPRk5TDYb"
      },
      "source": [
        "# **Make Dataset**"
      ]
    },
    {
      "cell_type": "code",
      "metadata": {
        "colab": {
          "base_uri": "https://localhost:8080/",
          "height": 66,
          "referenced_widgets": [
            "909942908e8a4ce58396319c2d44be01",
            "603d36fba36244048d8e5491c532a641",
            "72ecd6e148454cd9b9b8950e732eeedc",
            "f01ef812491848f7b069884acbc31b30",
            "d724512abfc340168e3dc12664c5dd9e",
            "3f5d8afe3e0045a9a7149804336d77a1",
            "c77870ad071f4b75b1bb90945ec66966",
            "609df7b6546a416289e777ba27bdf9c5"
          ]
        },
        "id": "Z2zXitprrjZW",
        "outputId": "b98e6a81-4ec0-406f-ddb4-593c47c5d2e0"
      },
      "source": [
        "import py_midicsv as pm\r\n",
        "import pandas as pd\r\n",
        "import numpy as np\r\n",
        "import glob\r\n",
        "total=pd.DataFrame()\r\n",
        "\r\n",
        "dataSet=pd.DataFrame()\r\n",
        "\r\n",
        "\r\n",
        "\r\n",
        "t=1\r\n",
        "files=[]\r\n",
        "timediff=[]\r\n",
        "pitchData=[]\r\n",
        "\r\n",
        "\r\n",
        "for file in glob.glob(\"/content/data/*.mid\"):\r\n",
        "    files.append(file)\r\n",
        "files=sorted(files)\r\n",
        "\r\n",
        "\r\n",
        "for file in tqdm(files):\r\n",
        "    csv_string1 = pm.midi_to_csv(file)\r\n",
        "    content = [x.strip().split(', ') for x in csv_string1] \r\n",
        "    data=pd.DataFrame(content)\r\n",
        "    data.columns=['A','Timestamp','NotePress','Track','Pitch','Velocity','G']\r\n",
        "    y=pd.DataFrame([t] * data.shape[0])\r\n",
        "    y.columns=['FileID']\r\n",
        "    data=pd.concat([data,y],axis=1)\r\n",
        "    total=total.append(data, ignore_index=True)\r\n",
        "    t+=1\r\n",
        "    total=total[15:-2]\r\n",
        "    a=list(total.Track.unique())\r\n",
        "    a=filter(None, a) # Remove nulls\r\n",
        "    target_Tracks = [ i for i in a if i.isnumeric() ]    # Calculates the number of tracks\r\n",
        "    for i in target_Tracks:\r\n",
        "\r\n",
        "\r\n",
        "        tar=total.loc[total['Track'] == i]\r\n",
        "        tar=tar.loc[(tar['NotePress'] == 'Note_off_c') | (tar['NotePress'] == 'Note_on_c') ]\r\n",
        "    \r\n",
        "        dataSet=dataSet.append(tar, ignore_index=True)\r\n",
        "        if(int(i)>-1 and int(i)<=5):\r\n",
        "            name= str(i)+\".csv\"\r\n",
        "            tar.to_csv(name)\r\n",
        "\r\n",
        "        if(len(list(np.diff(np.array(tar['Timestamp']).astype(float))))>0):\r\n",
        "            pidata=list(tar['Pitch'].astype(float))\r\n",
        "            pitchData=pitchData+pidata\r\n",
        "            xx=[0]+list(np.diff(np.array(tar['Timestamp']).astype(float)))\r\n",
        "            b = (xx - np.min(xx))/np.ptp(xx)\r\n",
        "            timediff=timediff+list(b)\r\n",
        "\r\n",
        "\r\n",
        "len(timediff),len(pitchData)\r\n",
        "\r\n",
        "d=pd.DataFrame(timediff)\r\n",
        "d.columns=['TimeDiff']\r\n",
        "d.to_csv('timediff.csv')\r\n",
        "\r\n",
        "d=pd.DataFrame(pitchData)\r\n",
        "d.columns=['pitchData']\r\n",
        "d.to_csv('pitchData.csv')\r\n"
      ],
      "execution_count": 3,
      "outputs": [
        {
          "output_type": "display_data",
          "data": {
            "application/vnd.jupyter.widget-view+json": {
              "model_id": "909942908e8a4ce58396319c2d44be01",
              "version_minor": 0,
              "version_major": 2
            },
            "text/plain": [
              "HBox(children=(FloatProgress(value=0.0, max=44.0), HTML(value='')))"
            ]
          },
          "metadata": {
            "tags": []
          }
        },
        {
          "output_type": "stream",
          "text": [
            "\n"
          ],
          "name": "stdout"
        }
      ]
    },
    {
      "cell_type": "markdown",
      "metadata": {
        "id": "YbygwDEMTHeW"
      },
      "source": [
        "# **Find Target**"
      ]
    },
    {
      "cell_type": "code",
      "metadata": {
        "colab": {
          "base_uri": "https://localhost:8080/",
          "height": 132,
          "referenced_widgets": [
            "8d254089ed434a3299ac0d3f3c1b8e70",
            "f688aa74f5b047f691cf85af543c3d02",
            "586f34780fd040d59a73e6b30affd636",
            "39cce941ca8642688b622b9d2843afa7",
            "075896502eb54c52bc45c1b35556aa5c",
            "32daa035d61d4df6b6afdc59c0be11da",
            "56b92e9ca34044b8a80f3743cacf1482",
            "e70f97f3e76741b1a2fbd585953aecba",
            "e9ed5db08bb6457f88f36fea0c0b5f28",
            "0bcf8918e36e4748992a01a47155c5aa",
            "1b4d09b7f2d2418c85c166b14a901893",
            "fe129cfa6a7244db8006a649c1982841",
            "9cb5fbe2afef4ad5851877ea35dda959",
            "14808f4a31c74ab9b10c881d1b047dc3",
            "453a840291ac4154a623ee2ca86dd42f",
            "a23a671519134a7b830d3af205b9b999"
          ]
        },
        "id": "jhshgIx8rlMe",
        "outputId": "4ac85113-fb7c-420d-d00b-4c0f6efa6029"
      },
      "source": [
        "# target_path='/content/MixcraftDataset/File - 03 - 6 sec.mid'\r\n",
        "target_path='/content/Song.mid'\r\n",
        "import py_midicsv as pm\r\n",
        "import pandas as pd\r\n",
        "import numpy as np\r\n",
        "import glob\r\n",
        "\r\n",
        "tar_timediff=[]\r\n",
        "tar_pitchData=[]\r\n",
        "\r\n",
        "timestamp_collector=[]\r\n",
        "file_collector=[]\r\n",
        "track_collector=[]\r\n",
        "\r\n",
        "blocks=[]\r\n",
        "\r\n",
        "\r\n",
        "csv_string1 = pm.midi_to_csv(target_path)\r\n",
        "content = [x.strip().split(', ') for x in csv_string1] \r\n",
        "data=pd.DataFrame(content)\r\n",
        "\r\n",
        "data.columns=['A','Timestamp','NotePress','Track','Pitch','Velocity','G']\r\n",
        "total=data\r\n",
        "\r\n",
        "total=total[15:-2]\r\n",
        "a=list(total.Track.unique())\r\n",
        "a=filter(None, a) # Remove nulls\r\n",
        "target_Tracks = [ i for i in a if i.isnumeric() ]    # Calculates the number of tracks\r\n",
        "for i in (target_Tracks):\r\n",
        "\r\n",
        "    tar=total.loc[total['Track'] == i]\r\n",
        "    tar=tar.loc[(tar['NotePress'] == 'Note_off_c') | (tar['NotePress'] == 'Note_on_c') ]\r\n",
        "    filename=str(i)+'find.csv'\r\n",
        "    tar.to_csv(filename)\r\n",
        "\r\n",
        "    if(len(list(np.diff(np.array(tar['Timestamp']).astype(float))))>0):\r\n",
        "        pidata=list(tar['Pitch'].astype(float))\r\n",
        "        tar_pitchData=tar_pitchData+pidata\r\n",
        "\r\n",
        "        xx=[0]+list(np.diff(np.array(tar['Timestamp']).astype(float)))\r\n",
        "        b = (xx - np.min(xx))/np.ptp(xx)\r\n",
        "        tar_timediff=tar_timediff+list(b)\r\n",
        "\r\n",
        "        # filename = str(i)+\"time.csv\"\r\n",
        "        # d=pd.DataFrame(tar_timediff)\r\n",
        "        # d.columns=['tar_timediff']\r\n",
        "        # d.to_csv(filename)\r\n",
        "\r\n",
        "        # filename = str(i)+\"pitch.csv\"\r\n",
        "        # d=pd.DataFrame(tar_pitchData)\r\n",
        "        # d.columns=['pitchData']\r\n",
        "        # d.to_csv(filename)\r\n",
        "\r\n",
        "        targetfile=str(i)+\".csv\"\r\n",
        "        datasetfile=pd.read_csv(targetfile)\r\n",
        "\r\n",
        "        k,block=distance(pidata,list(datasetfile.Pitch))\r\n",
        "        # print(block)\r\n",
        "        # b = (k - np.min(k))/np.ptp(k)\r\n",
        "        # plt.plot(b)\r\n",
        "        # plt.show()\r\n",
        "        file_collector.append(datasetfile['FileID'].iloc[block])\r\n",
        "        timestamp_collector.append(datasetfile['Timestamp'].iloc[block])\r\n",
        "        track_collector.append(datasetfile['Track'].iloc[block])\r\n",
        "        blocks.append(block)\r\n",
        "\r\n",
        "\r\n",
        "\r\n",
        "# len(tar_timediff),len(tar_pitchData)\r\n",
        "track_collector,timestamp_collector,file_collector,blocks"
      ],
      "execution_count": 75,
      "outputs": [
        {
          "output_type": "display_data",
          "data": {
            "application/vnd.jupyter.widget-view+json": {
              "model_id": "8d254089ed434a3299ac0d3f3c1b8e70",
              "version_minor": 0,
              "version_major": 2
            },
            "text/plain": [
              "HBox(children=(FloatProgress(value=0.0, max=20446.0), HTML(value='')))"
            ]
          },
          "metadata": {
            "tags": []
          }
        },
        {
          "output_type": "stream",
          "text": [
            "\n"
          ],
          "name": "stdout"
        },
        {
          "output_type": "display_data",
          "data": {
            "application/vnd.jupyter.widget-view+json": {
              "model_id": "e9ed5db08bb6457f88f36fea0c0b5f28",
              "version_minor": 0,
              "version_major": 2
            },
            "text/plain": [
              "HBox(children=(FloatProgress(value=0.0, max=17374.0), HTML(value='')))"
            ]
          },
          "metadata": {
            "tags": []
          }
        },
        {
          "output_type": "stream",
          "text": [
            "\n"
          ],
          "name": "stdout"
        },
        {
          "output_type": "execute_result",
          "data": {
            "text/plain": [
              "([0, 1], [28800, 28800], [3, 3], [10, 60])"
            ]
          },
          "metadata": {
            "tags": []
          },
          "execution_count": 75
        }
      ]
    },
    {
      "cell_type": "code",
      "metadata": {
        "colab": {
          "base_uri": "https://localhost:8080/"
        },
        "id": "5qJfQYxhu468",
        "outputId": "dbbecc36-b805-41fa-cb93-422e07712d6f"
      },
      "source": [
        "def closest(lst, K): \r\n",
        "\treturn lst[min(range(len(lst)), key = lambda i: abs(lst[i]-K))] \r\n",
        "\r\n",
        "\r\n",
        "def most_frequent(List): \r\n",
        "\treturn max(set(List), key = List.count) \r\n",
        "\r\n",
        "confirmedfile=most_frequent(file_collector)\r\n",
        "print(\"File : \",most_frequent(file_collector))\r\n",
        "\r\n",
        "print(\"Time : \",most_frequent(timestamp_collector)) \r\n",
        "\r\n",
        "\t"
      ],
      "execution_count": 76,
      "outputs": [
        {
          "output_type": "stream",
          "text": [
            "File :  3\n",
            "Time :  28800\n"
          ],
          "name": "stdout"
        }
      ]
    },
    {
      "cell_type": "code",
      "metadata": {
        "colab": {
          "base_uri": "https://localhost:8080/"
        },
        "id": "PN6blkSJ0Jgd",
        "outputId": "6064137a-908f-40d3-b0a7-bca0e71a54b4"
      },
      "source": [
        "all_occurrences = []\r\n",
        "last_found_index = -1\r\n",
        "element_found = True\r\n",
        "timelist=[]\r\n",
        "\r\n",
        "# finding out most occured file to confirm the file number\r\n",
        "\r\n",
        "while element_found:\r\n",
        "    try:\r\n",
        "        last_found_index = file_collector.index(most_frequent(file_collector), last_found_index + 1)\r\n",
        "        all_occurrences.append(last_found_index)\r\n",
        "    except ValueError:\r\n",
        "        element_found = False\r\n",
        "\r\n",
        "\r\n",
        "# Finding the most likely time to confirm the probable time\r\n",
        "\r\n",
        "for i in range(len(timestamp_collector)):\r\n",
        "    if i in all_occurrences:\r\n",
        "        timelist.append(timestamp_collector[i])\r\n",
        "likely_time=most_frequent(timelist)\r\n",
        "print(\"Most Likely time = \",likely_time )\r\n",
        "\r\n",
        "\r\n",
        "K = likely_time\r\n",
        "\r\n",
        "# Search the closest midi point from that time  \r\n",
        "\r\n",
        "timestamps=[]\r\n",
        "for i in target_Tracks:\r\n",
        "    filename=i+'.csv'\r\n",
        "    temp=pd.read_csv(filename)\r\n",
        "    temp=list(temp.Timestamp)\r\n",
        "    timestamps.append(closest(temp,likely_time))\r\n",
        "\r\n",
        "print(\"Set the closest time in both Tracks: \",timestamps)"
      ],
      "execution_count": 77,
      "outputs": [
        {
          "output_type": "stream",
          "text": [
            "Most Likely time =  28800\n",
            "Set the closest time in both Tracks:  [28800, 28800]\n"
          ],
          "name": "stdout"
        }
      ]
    },
    {
      "cell_type": "markdown",
      "metadata": {
        "id": "TQwhARSS9pnI"
      },
      "source": [
        "**Correct Value Should be around 20**\r\n",
        "\r\n",
        "We chopped all the MIDI from around 20 secs"
      ]
    },
    {
      "cell_type": "code",
      "metadata": {
        "colab": {
          "base_uri": "https://localhost:8080/"
        },
        "id": "DbMFmWaZ6cke",
        "outputId": "a7068175-6eba-4216-a422-be7a423d7614"
      },
      "source": [
        "# print(60 * 1000000 / 100)  # 100 was the bpm when we edited the dataset\r\n",
        "print(600000/likely_time)\r\n",
        "print(confirmedfile)"
      ],
      "execution_count": 40,
      "outputs": [
        {
          "output_type": "stream",
          "text": [
            "20.833333333333332\n",
            "3\n"
          ],
          "name": "stdout"
        }
      ]
    },
    {
      "cell_type": "code",
      "metadata": {
        "colab": {
          "base_uri": "https://localhost:8080/"
        },
        "id": "ebM_G9WcOO0H",
        "outputId": "d56186a4-a07c-425c-8798-ba5964d4a431"
      },
      "source": [
        "likely_time"
      ],
      "execution_count": 8,
      "outputs": [
        {
          "output_type": "execute_result",
          "data": {
            "text/plain": [
              "28800"
            ]
          },
          "metadata": {
            "tags": []
          },
          "execution_count": 8
        }
      ]
    },
    {
      "cell_type": "markdown",
      "metadata": {
        "id": "jB9gTwW894Zi"
      },
      "source": [
        "**Getting the timestretch**"
      ]
    },
    {
      "cell_type": "code",
      "metadata": {
        "colab": {
          "base_uri": "https://localhost:8080/"
        },
        "id": "pKq6hzcr93Xk",
        "outputId": "25360d99-48ba-41e0-a192-a4fe5a8c830c"
      },
      "source": [
        "file1=pd.read_csv('/content/0.csv')   # dataset\r\n",
        "file2=pd.read_csv('0find.csv')       #  target\r\n",
        "temp=file1[file1.Timestamp==likely_time]\r\n",
        "temp[temp.FileID==confirmedfile]\r\n",
        "l=temp[temp.FileID==confirmedfile]\r\n",
        "loc=l['Unnamed: 0']\r\n",
        "print(loc)\r\n",
        "\r\n",
        "a=float(600000/int(file1.Timestamp.iloc[loc+1-15]))\r\n",
        "b=float(600000/int(file1.Timestamp.iloc[loc+2-15]))\r\n",
        "\r\n",
        "\r\n",
        "\r\n",
        "\r\n",
        "# print(b-a)\r\n",
        "# c=float(600000/int(file2.Timestamp.iloc[1]))\r\n",
        "# d=float(600000/int(file2.Timestamp.iloc[2]))\r\n",
        "\r\n",
        "# print(d-c)\r\n",
        "\r\n",
        "# print(600000/int(file1.Timestamp.iloc[(loc+1)-15]))\r\n",
        "\r\n",
        "# print(600000/int(file1.Timestamp.iloc[(loc+2)-15]))\r\n",
        "\r\n",
        "# print(file1.iloc[loc+1-15])\r\n",
        "# print(file1.iloc[loc+2-15])\r\n",
        "# print(file1.iloc[loc+3-15])\r\n",
        "# # # file2.iloc[0]\r\n",
        "# file2"
      ],
      "execution_count": 78,
      "outputs": [
        {
          "output_type": "stream",
          "text": [
            "10    25\n",
            "Name: Unnamed: 0, dtype: int64\n"
          ],
          "name": "stdout"
        }
      ]
    },
    {
      "cell_type": "code",
      "metadata": {
        "colab": {
          "base_uri": "https://localhost:8080/",
          "height": 1000
        },
        "id": "oZE2y3fyFzHi",
        "outputId": "a05b37de-c2bb-4a1a-e5e4-c13eaafb87f0"
      },
      "source": [
        "findTime=pd.read_csv('/content/0find.csv')\r\n",
        "dataTime=pd.read_csv('/content/0.csv')[int(loc)-15:int(loc)+pd.read_csv('/content/0find.csv').shape[0]-15]\r\n",
        "\r\n",
        "plt.plot(np.diff(np.array(findTime.Timestamp)))\r\n",
        "plt.plot(np.diff(np.array(dataTime.Timestamp)))\r\n",
        "\r\n",
        "print(findTime)\r\n",
        "print(dataTime)"
      ],
      "execution_count": 79,
      "outputs": [
        {
          "output_type": "stream",
          "text": [
            "    Unnamed: 0  A  Timestamp   NotePress  Track  Pitch  Velocity   G\n",
            "0           15  2          0   Note_on_c      0     69        70 NaN\n",
            "1           16  2        500  Note_off_c      0     69         0 NaN\n",
            "2           17  2       3000   Note_on_c      0     65        72 NaN\n",
            "3           18  2       3250  Note_off_c      0     65         0 NaN\n",
            "4           19  2       3500   Note_on_c      0     62        71 NaN\n",
            "5           20  2       3750  Note_off_c      0     62         0 NaN\n",
            "6           21  2       4000   Note_on_c      0     65        85 NaN\n",
            "7           22  2       4500  Note_off_c      0     65         0 NaN\n",
            "8           23  2       5000   Note_on_c      0     64        71 NaN\n",
            "9           24  2       5500  Note_off_c      0     64         0 NaN\n",
            "10          25  2       6000   Note_on_c      0     70        85 NaN\n",
            "11          26  2       6500  Note_off_c      0     70         0 NaN\n",
            "12          27  2       7000   Note_on_c      0     69        68 NaN\n",
            "13          28  2       7500  Note_off_c      0     69         0 NaN\n",
            "14          29  2       8000   Note_on_c      0     77        91 NaN\n",
            "15          30  2       8250  Note_off_c      0     77         0 NaN\n",
            "16          31  2       8500   Note_on_c      0     77        81 NaN\n",
            "17          32  2       8750  Note_off_c      0     77         0 NaN\n",
            "18          33  2       9000   Note_on_c      0     77        73 NaN\n",
            "19          34  2       9500  Note_off_c      0     77         0 NaN\n",
            "20          35  2      10000   Note_on_c      0     76        73 NaN\n",
            "21          36  2      10250  Note_off_c      0     76         0 NaN\n",
            "22          37  2      10500   Note_on_c      0     76        76 NaN\n",
            "23          38  2      10750  Note_off_c      0     76         0 NaN\n",
            "24          39  2      11000   Note_on_c      0     76        74 NaN\n",
            "25          40  2      11500  Note_off_c      0     76         0 NaN\n",
            "26          41  2      12000   Note_on_c      0     74        72 NaN\n",
            "27          42  2      12002  Note_off_c      0     74         0 NaN\n",
            "    Unnamed: 0  A  Timestamp   NotePress  Track  Pitch  Velocity   G  FileID\n",
            "10          25  2      28800   Note_on_c      0     69        70 NaN       3\n",
            "11          26  2      29280  Note_off_c      0     69         0 NaN       3\n",
            "12          27  2      31680   Note_on_c      0     65        72 NaN       3\n",
            "13          28  2      31920  Note_off_c      0     65         0 NaN       3\n",
            "14          29  2      32160   Note_on_c      0     62        71 NaN       3\n",
            "15          30  2      32400  Note_off_c      0     62         0 NaN       3\n",
            "16          31  2      32640   Note_on_c      0     65        85 NaN       3\n",
            "17          32  2      33120  Note_off_c      0     65         0 NaN       3\n",
            "18          33  2      33600   Note_on_c      0     64        71 NaN       3\n",
            "19          34  2      34080  Note_off_c      0     64         0 NaN       3\n",
            "20          35  2      34560   Note_on_c      0     70        85 NaN       3\n",
            "21          36  2      35040  Note_off_c      0     70         0 NaN       3\n",
            "22          37  2      35520   Note_on_c      0     69        68 NaN       3\n",
            "23          38  2      36000  Note_off_c      0     69         0 NaN       3\n",
            "24          39  2      36480   Note_on_c      0     77        91 NaN       3\n",
            "25          40  2      36720  Note_off_c      0     77         0 NaN       3\n",
            "26          41  2      36960   Note_on_c      0     77        81 NaN       3\n",
            "27          42  2      37200  Note_off_c      0     77         0 NaN       3\n",
            "28          43  2      37440   Note_on_c      0     77        73 NaN       3\n",
            "29          44  2      37920  Note_off_c      0     77         0 NaN       3\n",
            "30          45  2      38400   Note_on_c      0     76        73 NaN       3\n",
            "31          46  2      38640  Note_off_c      0     76         0 NaN       3\n",
            "32          47  2      38880   Note_on_c      0     76        76 NaN       3\n",
            "33          48  2      39120  Note_off_c      0     76         0 NaN       3\n",
            "34          49  2      39360   Note_on_c      0     76        74 NaN       3\n",
            "35          50  2      39840  Note_off_c      0     76         0 NaN       3\n",
            "36          51  2      40320   Note_on_c      0     74        72 NaN       3\n",
            "37          52  2      40560  Note_off_c      0     74         0 NaN       3\n"
          ],
          "name": "stdout"
        },
        {
          "output_type": "display_data",
          "data": {
            "image/png": "[encoded data removed]",
            "text/plain": [
              "<Figure size 432x288 with 1 Axes>"
            ]
          },
          "metadata": {
            "tags": [],
            "needs_background": "light"
          }
        }
      ]
    },
    {
      "cell_type": "code",
      "metadata": {
        "colab": {
          "base_uri": "https://localhost:8080/"
        },
        "id": "1-UodVdgqE25",
        "outputId": "48dd3454-a9bd-4eb1-daa8-29749e430784"
      },
      "source": [
        "print(31680-28800)"
      ],
      "execution_count": 74,
      "outputs": [
        {
          "output_type": "stream",
          "text": [
            "2880\n"
          ],
          "name": "stdout"
        }
      ]
    },
    {
      "cell_type": "code",
      "metadata": {
        "colab": {
          "base_uri": "https://localhost:8080/",
          "height": 374
        },
        "id": "uQTHBg1XfX_g",
        "outputId": "af70fb33-8ce9-46ba-f853-1099afff6f86"
      },
      "source": [
        "\r\n",
        "csv_string1 = pm.midi_to_csv(files[confirmedfile-1])[:15]\r\n",
        "csv_string2 = pd.read_csv('/content/0find.csv')\r\n",
        "csv_string2.columns=[0,1,2,3,4,5,6,7]\r\n",
        "del csv_string2[7]\r\n",
        "content = [x.strip().split(', ') for x in csv_string1] \r\n",
        "data=pd.DataFrame(content)\r\n",
        "data\r\n",
        "csv_string=data.append(csv_string2, ignore_index=True)\r\n",
        "# csv_string.to_csv('sample.csv')\r\n",
        "\r\n",
        "\r\n",
        "# kk=csv_string.to_string(encoding='iso-8859-1')\r\n",
        "\r\n",
        "\r\n",
        "# midi_object = pm.csv_to_midi(kk)\r\n",
        "# with open(\"example_converted.mid\", \"wb\") as output_file:\r\n",
        "#     midi_writer = pm.FileWriter(output_file)\r\n",
        "#     midi_writer.write(midi_object)"
      ],
      "execution_count": 69,
      "outputs": [
        {
          "output_type": "error",
          "ename": "ValueError",
          "evalue": "ignored",
          "traceback": [
            "\u001b[0;31m---------------------------------------------------------------------------\u001b[0m",
            "\u001b[0;31mValueError\u001b[0m                                Traceback (most recent call last)",
            "\u001b[0;32m<ipython-input-69-a3ad3e8a545b>\u001b[0m in \u001b[0;36m<module>\u001b[0;34m()\u001b[0m\n\u001b[1;32m      9\u001b[0m \u001b[0mcsv_string\u001b[0m\u001b[0;34m=\u001b[0m\u001b[0mdata\u001b[0m\u001b[0;34m.\u001b[0m\u001b[0mappend\u001b[0m\u001b[0;34m(\u001b[0m\u001b[0mcsv_string2\u001b[0m\u001b[0;34m,\u001b[0m \u001b[0mignore_index\u001b[0m\u001b[0;34m=\u001b[0m\u001b[0;32mTrue\u001b[0m\u001b[0;34m)\u001b[0m\u001b[0;34m\u001b[0m\u001b[0;34m\u001b[0m\u001b[0m\n\u001b[1;32m     10\u001b[0m \u001b[0mcsv_string\u001b[0m\u001b[0;34m.\u001b[0m\u001b[0mto_csv\u001b[0m\u001b[0;34m(\u001b[0m\u001b[0;34m'sample.csv'\u001b[0m\u001b[0;34m)\u001b[0m\u001b[0;34m\u001b[0m\u001b[0;34m\u001b[0m\u001b[0m\n\u001b[0;32m---> 11\u001b[0;31m \u001b[0mkk\u001b[0m\u001b[0;34m=\u001b[0m\u001b[0mcsv_string\u001b[0m\u001b[0;34m.\u001b[0m\u001b[0mto_string\u001b[0m\u001b[0;34m(\u001b[0m\u001b[0mencoding\u001b[0m\u001b[0;34m=\u001b[0m \u001b[0;34m'iso-8859-1'\u001b[0m\u001b[0;34m)\u001b[0m\u001b[0;34m\u001b[0m\u001b[0;34m\u001b[0m\u001b[0m\n\u001b[0m\u001b[1;32m     12\u001b[0m \u001b[0;34m\u001b[0m\u001b[0m\n\u001b[1;32m     13\u001b[0m \u001b[0;34m\u001b[0m\u001b[0m\n",
            "\u001b[0;32m/usr/local/lib/python3.6/dist-packages/pandas/core/frame.py\u001b[0m in \u001b[0;36mto_string\u001b[0;34m(self, buf, columns, col_space, header, index, na_rep, formatters, float_format, sparsify, index_names, justify, max_rows, min_rows, max_cols, show_dimensions, decimal, line_width, max_colwidth, encoding)\u001b[0m\n\u001b[1;32m    881\u001b[0m                 \u001b[0mline_width\u001b[0m\u001b[0;34m=\u001b[0m\u001b[0mline_width\u001b[0m\u001b[0;34m,\u001b[0m\u001b[0;34m\u001b[0m\u001b[0;34m\u001b[0m\u001b[0m\n\u001b[1;32m    882\u001b[0m             )\n\u001b[0;32m--> 883\u001b[0;31m             \u001b[0;32mreturn\u001b[0m \u001b[0mformatter\u001b[0m\u001b[0;34m.\u001b[0m\u001b[0mto_string\u001b[0m\u001b[0;34m(\u001b[0m\u001b[0mbuf\u001b[0m\u001b[0;34m=\u001b[0m\u001b[0mbuf\u001b[0m\u001b[0;34m,\u001b[0m \u001b[0mencoding\u001b[0m\u001b[0;34m=\u001b[0m\u001b[0mencoding\u001b[0m\u001b[0;34m)\u001b[0m\u001b[0;34m\u001b[0m\u001b[0;34m\u001b[0m\u001b[0m\n\u001b[0m\u001b[1;32m    884\u001b[0m \u001b[0;34m\u001b[0m\u001b[0m\n\u001b[1;32m    885\u001b[0m     \u001b[0;31m# ----------------------------------------------------------------------\u001b[0m\u001b[0;34m\u001b[0m\u001b[0;34m\u001b[0m\u001b[0;34m\u001b[0m\u001b[0m\n",
            "\u001b[0;32m/usr/local/lib/python3.6/dist-packages/pandas/io/formats/format.py\u001b[0m in \u001b[0;36mto_string\u001b[0;34m(self, buf, encoding)\u001b[0m\n\u001b[1;32m    919\u001b[0m         \u001b[0mencoding\u001b[0m\u001b[0;34m:\u001b[0m \u001b[0mOptional\u001b[0m\u001b[0;34m[\u001b[0m\u001b[0mstr\u001b[0m\u001b[0;34m]\u001b[0m \u001b[0;34m=\u001b[0m \u001b[0;32mNone\u001b[0m\u001b[0;34m,\u001b[0m\u001b[0;34m\u001b[0m\u001b[0;34m\u001b[0m\u001b[0m\n\u001b[1;32m    920\u001b[0m     ) -> Optional[str]:\n\u001b[0;32m--> 921\u001b[0;31m         \u001b[0;32mreturn\u001b[0m \u001b[0mself\u001b[0m\u001b[0;34m.\u001b[0m\u001b[0mget_result\u001b[0m\u001b[0;34m(\u001b[0m\u001b[0mbuf\u001b[0m\u001b[0;34m=\u001b[0m\u001b[0mbuf\u001b[0m\u001b[0;34m,\u001b[0m \u001b[0mencoding\u001b[0m\u001b[0;34m=\u001b[0m\u001b[0mencoding\u001b[0m\u001b[0;34m)\u001b[0m\u001b[0;34m\u001b[0m\u001b[0;34m\u001b[0m\u001b[0m\n\u001b[0m\u001b[1;32m    922\u001b[0m \u001b[0;34m\u001b[0m\u001b[0m\n\u001b[1;32m    923\u001b[0m     def to_latex(\n",
            "\u001b[0;32m/usr/local/lib/python3.6/dist-packages/pandas/io/formats/format.py\u001b[0m in \u001b[0;36mget_result\u001b[0;34m(self, buf, encoding)\u001b[0m\n\u001b[1;32m    517\u001b[0m         \u001b[0mPerform\u001b[0m \u001b[0mserialization\u001b[0m\u001b[0;34m.\u001b[0m \u001b[0mWrite\u001b[0m \u001b[0mto\u001b[0m \u001b[0mbuf\u001b[0m \u001b[0;32mor\u001b[0m \u001b[0;32mreturn\u001b[0m \u001b[0;32mas\u001b[0m \u001b[0mstring\u001b[0m \u001b[0;32mif\u001b[0m \u001b[0mbuf\u001b[0m \u001b[0;32mis\u001b[0m \u001b[0;32mNone\u001b[0m\u001b[0;34m.\u001b[0m\u001b[0;34m\u001b[0m\u001b[0;34m\u001b[0m\u001b[0m\n\u001b[1;32m    518\u001b[0m         \"\"\"\n\u001b[0;32m--> 519\u001b[0;31m         \u001b[0;32mwith\u001b[0m \u001b[0mself\u001b[0m\u001b[0;34m.\u001b[0m\u001b[0mget_buffer\u001b[0m\u001b[0;34m(\u001b[0m\u001b[0mbuf\u001b[0m\u001b[0;34m,\u001b[0m \u001b[0mencoding\u001b[0m\u001b[0;34m=\u001b[0m\u001b[0mencoding\u001b[0m\u001b[0;34m)\u001b[0m \u001b[0;32mas\u001b[0m \u001b[0mf\u001b[0m\u001b[0;34m:\u001b[0m\u001b[0;34m\u001b[0m\u001b[0;34m\u001b[0m\u001b[0m\n\u001b[0m\u001b[1;32m    520\u001b[0m             \u001b[0mself\u001b[0m\u001b[0;34m.\u001b[0m\u001b[0mwrite_result\u001b[0m\u001b[0;34m(\u001b[0m\u001b[0mbuf\u001b[0m\u001b[0;34m=\u001b[0m\u001b[0mf\u001b[0m\u001b[0;34m)\u001b[0m\u001b[0;34m\u001b[0m\u001b[0;34m\u001b[0m\u001b[0m\n\u001b[1;32m    521\u001b[0m             \u001b[0;32mif\u001b[0m \u001b[0mbuf\u001b[0m \u001b[0;32mis\u001b[0m \u001b[0;32mNone\u001b[0m\u001b[0;34m:\u001b[0m\u001b[0;34m\u001b[0m\u001b[0;34m\u001b[0m\u001b[0m\n",
            "\u001b[0;32m/usr/lib/python3.6/contextlib.py\u001b[0m in \u001b[0;36m__enter__\u001b[0;34m(self)\u001b[0m\n\u001b[1;32m     79\u001b[0m     \u001b[0;32mdef\u001b[0m \u001b[0m__enter__\u001b[0m\u001b[0;34m(\u001b[0m\u001b[0mself\u001b[0m\u001b[0;34m)\u001b[0m\u001b[0;34m:\u001b[0m\u001b[0;34m\u001b[0m\u001b[0;34m\u001b[0m\u001b[0m\n\u001b[1;32m     80\u001b[0m         \u001b[0;32mtry\u001b[0m\u001b[0;34m:\u001b[0m\u001b[0;34m\u001b[0m\u001b[0;34m\u001b[0m\u001b[0m\n\u001b[0;32m---> 81\u001b[0;31m             \u001b[0;32mreturn\u001b[0m \u001b[0mnext\u001b[0m\u001b[0;34m(\u001b[0m\u001b[0mself\u001b[0m\u001b[0;34m.\u001b[0m\u001b[0mgen\u001b[0m\u001b[0;34m)\u001b[0m\u001b[0;34m\u001b[0m\u001b[0;34m\u001b[0m\u001b[0m\n\u001b[0m\u001b[1;32m     82\u001b[0m         \u001b[0;32mexcept\u001b[0m \u001b[0mStopIteration\u001b[0m\u001b[0;34m:\u001b[0m\u001b[0;34m\u001b[0m\u001b[0;34m\u001b[0m\u001b[0m\n\u001b[1;32m     83\u001b[0m             \u001b[0;32mraise\u001b[0m \u001b[0mRuntimeError\u001b[0m\u001b[0;34m(\u001b[0m\u001b[0;34m\"generator didn't yield\"\u001b[0m\u001b[0;34m)\u001b[0m \u001b[0;32mfrom\u001b[0m \u001b[0;32mNone\u001b[0m\u001b[0;34m\u001b[0m\u001b[0;34m\u001b[0m\u001b[0m\n",
            "\u001b[0;32m/usr/local/lib/python3.6/dist-packages/pandas/io/formats/format.py\u001b[0m in \u001b[0;36mget_buffer\u001b[0;34m(self, buf, encoding)\u001b[0m\n\u001b[1;32m    489\u001b[0m             \u001b[0mencoding\u001b[0m \u001b[0;34m=\u001b[0m \u001b[0;34m\"utf-8\"\u001b[0m\u001b[0;34m\u001b[0m\u001b[0;34m\u001b[0m\u001b[0m\n\u001b[1;32m    490\u001b[0m         \u001b[0;32melif\u001b[0m \u001b[0;32mnot\u001b[0m \u001b[0misinstance\u001b[0m\u001b[0;34m(\u001b[0m\u001b[0mbuf\u001b[0m\u001b[0;34m,\u001b[0m \u001b[0mstr\u001b[0m\u001b[0;34m)\u001b[0m\u001b[0;34m:\u001b[0m\u001b[0;34m\u001b[0m\u001b[0;34m\u001b[0m\u001b[0m\n\u001b[0;32m--> 491\u001b[0;31m             \u001b[0;32mraise\u001b[0m \u001b[0mValueError\u001b[0m\u001b[0;34m(\u001b[0m\u001b[0;34m\"buf is not a file name and encoding is specified.\"\u001b[0m\u001b[0;34m)\u001b[0m\u001b[0;34m\u001b[0m\u001b[0;34m\u001b[0m\u001b[0m\n\u001b[0m\u001b[1;32m    492\u001b[0m \u001b[0;34m\u001b[0m\u001b[0m\n\u001b[1;32m    493\u001b[0m         \u001b[0;32mif\u001b[0m \u001b[0mhasattr\u001b[0m\u001b[0;34m(\u001b[0m\u001b[0mbuf\u001b[0m\u001b[0;34m,\u001b[0m \u001b[0;34m\"write\"\u001b[0m\u001b[0;34m)\u001b[0m\u001b[0;34m:\u001b[0m\u001b[0;34m\u001b[0m\u001b[0;34m\u001b[0m\u001b[0m\n",
            "\u001b[0;31mValueError\u001b[0m: buf is not a file name and encoding is specified."
          ]
        }
      ]
    },
    {
      "cell_type": "markdown",
      "metadata": {
        "id": "3hRjxaprFBLH"
      },
      "source": [
        "tick_duration = microseconds_per_beat / ticks_per_beat\r\n",
        "\r\n",
        "tick_duration = 60,000,000 / (beats_per_minute * ticks_per_beat)\r\n",
        "\r\n",
        "microseconds = ticks * tick_duration"
      ]
    },
    {
      "cell_type": "code",
      "metadata": {
        "id": "j81oo_eBHofz"
      },
      "source": [
        "file1.iloc[loc+1]"
      ],
      "execution_count": null,
      "outputs": []
    }
  ]
}